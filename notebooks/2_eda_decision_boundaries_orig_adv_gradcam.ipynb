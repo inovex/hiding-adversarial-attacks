{
 "cells": [
  {
   "cell_type": "code",
   "execution_count": 14,
   "metadata": {},
   "outputs": [],
   "source": [
    "import matplotlib.pyplot as plt\n",
    "import numpy as np\n",
    "import os\n",
    "import pandas as pd\n",
    "import seaborn as sns\n",
    "import torch\n",
    "from hiding_adversarial_attacks.manipulation.utils import get_similarities\n"
   ]
  },
  {
   "cell_type": "code",
   "execution_count": 15,
   "metadata": {},
   "outputs": [],
   "source": [
    "data_path = \"/home/steffi/dev/master_thesis/hiding_adversarial_attacks/data/external\"\n",
    "mnist_path = os.path.join(data_path, \"MNIST/processed\")\n",
    "fashion_mnist_path = os.path.join(data_path, \"FashionMNIST/processed\")\n",
    "cifar10_path = os.path.join(data_path, \"CIFAR10\")\n",
    "\n",
    "## DeepFool\n",
    "adversarial_path = \"/home/steffi/dev/master_thesis/hiding_adversarial_attacks/data/preprocessed/adversarial\"\n",
    "mnist_adv_path = os.path.join(adversarial_path, \"data-set=MNIST--attack=DeepFool--eps=0.2--cp-run=HAA-946\")\n",
    "fashion_mnist_adv_path = os.path.join(adversarial_path, \"data-set=FashionMNIST--attack=DeepFool--eps=0.105--cp-run=HAA-952\")\n",
    "cifar10_adv_path = os.path.join(adversarial_path, \"data-set=CIFAR10--attack=DeepFool--eps=0.1--cp-run=HAA-943\")"
   ]
  },
  {
   "cell_type": "code",
   "execution_count": 16,
   "metadata": {},
   "outputs": [],
   "source": [
    "# GradCAM\n",
    "mnist_expl_path_gradcam = os.path.join(mnist_adv_path, \"exp=GradCAM--l=conv2--ra=False\")\n",
    "fashion_mnist_path_gradcam = os.path.join(fashion_mnist_adv_path, \"exp=GradCAM--l=conv2--ra=False\")\n",
    "cifar10_path_gradcam = os.path.join(cifar10_adv_path, \"exp=GradCAM--l=model.features.18.0--ra=False\")"
   ]
  },
  {
   "cell_type": "markdown",
   "metadata": {},
   "source": [
    "# Load data"
   ]
  },
  {
   "cell_type": "code",
   "execution_count": 17,
   "metadata": {},
   "outputs": [],
   "source": [
    "def load_confidences(data_set_path: str):\n",
    "    train_confidences_orig, train_labels_orig = torch.load(os.path.join(data_set_path, \"confidences_orig.pt\"))\n",
    "    train_confidences_adv, train_labels_adv = torch.load(os.path.join(data_set_path, \"confidences_adv.pt\"))\n",
    "    return train_confidences_orig, train_labels_orig, train_confidences_adv, train_labels_adv"
   ]
  },
  {
   "cell_type": "code",
   "execution_count": 18,
   "metadata": {},
   "outputs": [],
   "source": [
    "def load_explanations(data_set_path: str):\n",
    "    train_expl_orig, train_labels_orig, _ = torch.load(os.path.join(data_set_path, \"training_orig_exp.pt\"))\n",
    "    train_expl_adv, train_labels_adv, _ = torch.load(os.path.join(data_set_path, \"training_adv_exp.pt\"))\n",
    "    return train_expl_orig, train_labels_orig, train_expl_adv, train_labels_adv"
   ]
  },
  {
   "cell_type": "code",
   "execution_count": 19,
   "metadata": {},
   "outputs": [],
   "source": [
    "# Explanations\n",
    "mnist_train_expl_orig, mnist_train_label_orig, mnist_train_expl_adv, mnist_train_label_adv = load_explanations(mnist_expl_path_gradcam)\n",
    "fashion_mnist_train_expl_orig, fashion_mnist_train_label_orig, fashion_mnist_train_expl_adv, fashion_mnist_train_label_adv = load_explanations(fashion_mnist_path_gradcam)\n",
    "cifar10_train_expl_orig, cifar10_train_label_orig, cifar10_train_expl_adv, cifar10_train_label_adv = load_explanations(cifar10_path_gradcam)"
   ]
  },
  {
   "cell_type": "code",
   "execution_count": 20,
   "metadata": {},
   "outputs": [],
   "source": [
    "# Confidences\n",
    "mnist_train_confidences_orig, mnist_train_labels_orig, mnist_train_confidences_adv, mnist_train_labels_adv = load_confidences(mnist_adv_path)\n",
    "fashion_mnist_train_confidences_orig, fashion_mnist_train_labels_orig, fashion_mnist_train_confidences_adv, fashion_mnist_train_labels_adv = load_confidences(fashion_mnist_adv_path)\n",
    "cifar10_train_confidences_orig, cifar10_train_labels_orig, cifar10_train_confidences_adv, cifar10_train_labels_adv = load_confidences(cifar10_adv_path)"
   ]
  },
  {
   "cell_type": "code",
   "execution_count": 21,
   "metadata": {
    "scrolled": true
   },
   "outputs": [],
   "source": [
    "# Similarities\n",
    "reverse_mse, mnist_similarities_mse = get_similarities(\"MSE\", mnist_train_expl_orig, mnist_train_expl_adv)\n",
    "reverse_pcc, mnist_similarities_pcc = get_similarities(\"PCC\", mnist_train_expl_orig, mnist_train_expl_adv)\n",
    "\n",
    "reverse_mse, fashion_mnist_similarities_mse = get_similarities(\"MSE\", fashion_mnist_train_expl_orig, fashion_mnist_train_expl_adv)\n",
    "reverse_pcc, fashion_mnist_similarities_pcc = get_similarities(\"PCC\", fashion_mnist_train_expl_orig, fashion_mnist_train_expl_adv)\n",
    "\n",
    "reverse_mse, cifar10_similarities_mse = get_similarities(\"MSE\", cifar10_train_expl_orig, cifar10_train_expl_adv)\n",
    "reverse_pcc, cifar10_similarities_pcc = get_similarities(\"PCC\", cifar10_train_expl_orig, cifar10_train_expl_adv)"
   ]
  },
  {
   "cell_type": "code",
   "execution_count": 22,
   "metadata": {},
   "outputs": [],
   "source": [
    "df_mnist_train_labels_orig = pd.DataFrame(mnist_train_labels_orig.numpy())\n",
    "df_mnist_train_labels_adv = pd.DataFrame(mnist_train_labels_adv.numpy())\n",
    "\n",
    "df_fashion_mnist_train_labels_orig = pd.DataFrame(fashion_mnist_train_labels_orig.numpy())\n",
    "df_fashion_mnist_train_labels_adv = pd.DataFrame(fashion_mnist_train_labels_adv.numpy())\n",
    "\n",
    "df_cifar10_train_labels_orig = pd.DataFrame(cifar10_train_labels_orig.numpy())\n",
    "df_cifar10_train_labels_adv = pd.DataFrame(cifar10_train_labels_adv.numpy())"
   ]
  },
  {
   "cell_type": "code",
   "execution_count": 23,
   "metadata": {},
   "outputs": [
    {
     "data": {
      "text/plain": [
       "torch.Size([52295, 1, 28, 28])"
      ]
     },
     "execution_count": 23,
     "metadata": {},
     "output_type": "execute_result"
    }
   ],
   "source": [
    "mnist_train_expl_orig.shape"
   ]
  },
  {
   "cell_type": "code",
   "execution_count": 24,
   "metadata": {},
   "outputs": [],
   "source": [
    "def get_top_k_df(confidences):\n",
    "    val, idcs = torch.topk(confidences, k=2, dim=1)\n",
    "    df = pd.DataFrame([idcs[:,0].numpy(), val[:,0].numpy(),idcs[:,1].numpy(), val[:,1].numpy()], index=[\"top_1_label\", \"top_1_conf\", \"top_2_label\", \"top_2_conf\"]).T\n",
    "    return df"
   ]
  },
  {
   "cell_type": "code",
   "execution_count": 25,
   "metadata": {},
   "outputs": [],
   "source": [
    "top_k_mnist_train_orig = get_top_k_df(mnist_train_confidences_orig)\n",
    "top_k_fashion_mnist_train_orig = get_top_k_df(fashion_mnist_train_confidences_orig)\n",
    "top_k_cifar10_train_orig = get_top_k_df(cifar10_train_confidences_orig)\n",
    "\n",
    "top_k_mnist_train_adv = get_top_k_df(mnist_train_confidences_adv)\n",
    "top_k_fashion_mnist_train_adv = get_top_k_df(fashion_mnist_train_confidences_adv)\n",
    "top_k_cifar10_train_adv = get_top_k_df(cifar10_train_confidences_adv)\n",
    "\n"
   ]
  },
  {
   "cell_type": "code",
   "execution_count": 26,
   "metadata": {},
   "outputs": [],
   "source": [
    "def get_top_k_and_similarities_df(confidences, similarities_mse, similarities_pcc):\n",
    "    df = get_top_k_df(confidences)\n",
    "    df[\"mse_sim\"] = similarities_mse.numpy()\n",
    "    df[\"pcc_sim\"] = similarities_pcc.numpy()\n",
    "    return df"
   ]
  },
  {
   "cell_type": "code",
   "execution_count": 27,
   "metadata": {},
   "outputs": [],
   "source": [
    "mnist_adv = get_top_k_and_similarities_df(mnist_train_confidences_adv, mnist_similarities_mse, mnist_similarities_pcc)\n",
    "fashion_mnist_adv = get_top_k_and_similarities_df(fashion_mnist_train_confidences_adv, fashion_mnist_similarities_mse, fashion_mnist_similarities_pcc)\n",
    "cifar10_adv = get_top_k_and_similarities_df(cifar10_train_confidences_adv, cifar10_similarities_mse, cifar10_similarities_pcc)\n",
    "\n",
    "mnist_orig = get_top_k_and_similarities_df(mnist_train_confidences_orig, mnist_similarities_mse, mnist_similarities_pcc)\n",
    "fashion_mnist_orig = get_top_k_and_similarities_df(fashion_mnist_train_confidences_orig, fashion_mnist_similarities_mse, fashion_mnist_similarities_pcc)\n",
    "cifar10_orig = get_top_k_and_similarities_df(cifar10_train_confidences_orig, cifar10_similarities_mse, cifar10_similarities_pcc)"
   ]
  },
  {
   "cell_type": "code",
   "execution_count": 62,
   "metadata": {},
   "outputs": [
    {
     "data": {
      "text/html": [
       "<div>\n",
       "<style scoped>\n",
       "    .dataframe tbody tr th:only-of-type {\n",
       "        vertical-align: middle;\n",
       "    }\n",
       "\n",
       "    .dataframe tbody tr th {\n",
       "        vertical-align: top;\n",
       "    }\n",
       "\n",
       "    .dataframe thead th {\n",
       "        text-align: right;\n",
       "    }\n",
       "</style>\n",
       "<table border=\"1\" class=\"dataframe\">\n",
       "  <thead>\n",
       "    <tr style=\"text-align: right;\">\n",
       "      <th></th>\n",
       "      <th>top_1_conf</th>\n",
       "      <th>top_2_conf</th>\n",
       "      <th>mse_sim</th>\n",
       "    </tr>\n",
       "  </thead>\n",
       "  <tbody>\n",
       "    <tr>\n",
       "      <th>top_1_conf</th>\n",
       "      <td>1.000000</td>\n",
       "      <td>-0.942595</td>\n",
       "      <td>0.278363</td>\n",
       "    </tr>\n",
       "    <tr>\n",
       "      <th>top_2_conf</th>\n",
       "      <td>-0.942595</td>\n",
       "      <td>1.000000</td>\n",
       "      <td>-0.278466</td>\n",
       "    </tr>\n",
       "    <tr>\n",
       "      <th>mse_sim</th>\n",
       "      <td>0.278363</td>\n",
       "      <td>-0.278466</td>\n",
       "      <td>1.000000</td>\n",
       "    </tr>\n",
       "  </tbody>\n",
       "</table>\n",
       "</div>"
      ],
      "text/plain": [
       "            top_1_conf  top_2_conf   mse_sim\n",
       "top_1_conf    1.000000   -0.942595  0.278363\n",
       "top_2_conf   -0.942595    1.000000 -0.278466\n",
       "mse_sim       0.278363   -0.278466  1.000000"
      ]
     },
     "execution_count": 62,
     "metadata": {},
     "output_type": "execute_result"
    }
   ],
   "source": [
    "fashion_mnist_adv[[\"top_1_conf\", \"top_2_conf\", \"mse_sim\"]].corr()"
   ]
  },
  {
   "cell_type": "code",
   "execution_count": 29,
   "metadata": {},
   "outputs": [
    {
     "data": {
      "text/html": [
       "<div>\n",
       "<style scoped>\n",
       "    .dataframe tbody tr th:only-of-type {\n",
       "        vertical-align: middle;\n",
       "    }\n",
       "\n",
       "    .dataframe tbody tr th {\n",
       "        vertical-align: top;\n",
       "    }\n",
       "\n",
       "    .dataframe thead th {\n",
       "        text-align: right;\n",
       "    }\n",
       "</style>\n",
       "<table border=\"1\" class=\"dataframe\">\n",
       "  <thead>\n",
       "    <tr style=\"text-align: right;\">\n",
       "      <th></th>\n",
       "      <th>pcc_sim</th>\n",
       "      <th>top_1_conf</th>\n",
       "    </tr>\n",
       "    <tr>\n",
       "      <th>top_1_label</th>\n",
       "      <th></th>\n",
       "      <th></th>\n",
       "    </tr>\n",
       "  </thead>\n",
       "  <tbody>\n",
       "    <tr>\n",
       "      <th>0.0</th>\n",
       "      <td>-0.417009</td>\n",
       "      <td>0.619028</td>\n",
       "    </tr>\n",
       "    <tr>\n",
       "      <th>1.0</th>\n",
       "      <td>-0.262097</td>\n",
       "      <td>0.696587</td>\n",
       "    </tr>\n",
       "    <tr>\n",
       "      <th>2.0</th>\n",
       "      <td>-0.274793</td>\n",
       "      <td>0.577616</td>\n",
       "    </tr>\n",
       "    <tr>\n",
       "      <th>3.0</th>\n",
       "      <td>-0.203898</td>\n",
       "      <td>0.640993</td>\n",
       "    </tr>\n",
       "    <tr>\n",
       "      <th>4.0</th>\n",
       "      <td>-0.453188</td>\n",
       "      <td>0.593091</td>\n",
       "    </tr>\n",
       "    <tr>\n",
       "      <th>5.0</th>\n",
       "      <td>-0.308711</td>\n",
       "      <td>0.638437</td>\n",
       "    </tr>\n",
       "    <tr>\n",
       "      <th>6.0</th>\n",
       "      <td>-0.156613</td>\n",
       "      <td>0.605595</td>\n",
       "    </tr>\n",
       "    <tr>\n",
       "      <th>7.0</th>\n",
       "      <td>-0.255441</td>\n",
       "      <td>0.565587</td>\n",
       "    </tr>\n",
       "    <tr>\n",
       "      <th>8.0</th>\n",
       "      <td>-0.524120</td>\n",
       "      <td>0.639674</td>\n",
       "    </tr>\n",
       "    <tr>\n",
       "      <th>9.0</th>\n",
       "      <td>-0.377582</td>\n",
       "      <td>0.606929</td>\n",
       "    </tr>\n",
       "  </tbody>\n",
       "</table>\n",
       "</div>"
      ],
      "text/plain": [
       "              pcc_sim  top_1_conf\n",
       "top_1_label                      \n",
       "0.0         -0.417009    0.619028\n",
       "1.0         -0.262097    0.696587\n",
       "2.0         -0.274793    0.577616\n",
       "3.0         -0.203898    0.640993\n",
       "4.0         -0.453188    0.593091\n",
       "5.0         -0.308711    0.638437\n",
       "6.0         -0.156613    0.605595\n",
       "7.0         -0.255441    0.565587\n",
       "8.0         -0.524120    0.639674\n",
       "9.0         -0.377582    0.606929"
      ]
     },
     "execution_count": 29,
     "metadata": {},
     "output_type": "execute_result"
    }
   ],
   "source": [
    "mnist_adv[[\"pcc_sim\", \"top_1_label\", \"top_1_conf\"]].groupby([\"top_1_label\"]).mean()"
   ]
  },
  {
   "cell_type": "code",
   "execution_count": 30,
   "metadata": {},
   "outputs": [
    {
     "data": {
      "text/html": [
       "<div>\n",
       "<style scoped>\n",
       "    .dataframe tbody tr th:only-of-type {\n",
       "        vertical-align: middle;\n",
       "    }\n",
       "\n",
       "    .dataframe tbody tr th {\n",
       "        vertical-align: top;\n",
       "    }\n",
       "\n",
       "    .dataframe thead th {\n",
       "        text-align: right;\n",
       "    }\n",
       "</style>\n",
       "<table border=\"1\" class=\"dataframe\">\n",
       "  <thead>\n",
       "    <tr style=\"text-align: right;\">\n",
       "      <th></th>\n",
       "      <th>pcc_sim</th>\n",
       "      <th>top_1_conf</th>\n",
       "    </tr>\n",
       "    <tr>\n",
       "      <th>top_1_label</th>\n",
       "      <th></th>\n",
       "      <th></th>\n",
       "    </tr>\n",
       "  </thead>\n",
       "  <tbody>\n",
       "    <tr>\n",
       "      <th>0.0</th>\n",
       "      <td>0.307594</td>\n",
       "      <td>0.108705</td>\n",
       "    </tr>\n",
       "    <tr>\n",
       "      <th>1.0</th>\n",
       "      <td>0.375658</td>\n",
       "      <td>0.134063</td>\n",
       "    </tr>\n",
       "    <tr>\n",
       "      <th>2.0</th>\n",
       "      <td>0.493112</td>\n",
       "      <td>0.086798</td>\n",
       "    </tr>\n",
       "    <tr>\n",
       "      <th>3.0</th>\n",
       "      <td>0.492553</td>\n",
       "      <td>0.104839</td>\n",
       "    </tr>\n",
       "    <tr>\n",
       "      <th>4.0</th>\n",
       "      <td>0.454021</td>\n",
       "      <td>0.086585</td>\n",
       "    </tr>\n",
       "    <tr>\n",
       "      <th>5.0</th>\n",
       "      <td>0.430440</td>\n",
       "      <td>0.107235</td>\n",
       "    </tr>\n",
       "    <tr>\n",
       "      <th>6.0</th>\n",
       "      <td>0.418413</td>\n",
       "      <td>0.102673</td>\n",
       "    </tr>\n",
       "    <tr>\n",
       "      <th>7.0</th>\n",
       "      <td>0.498039</td>\n",
       "      <td>0.101570</td>\n",
       "    </tr>\n",
       "    <tr>\n",
       "      <th>8.0</th>\n",
       "      <td>0.290654</td>\n",
       "      <td>0.121232</td>\n",
       "    </tr>\n",
       "    <tr>\n",
       "      <th>9.0</th>\n",
       "      <td>0.404224</td>\n",
       "      <td>0.104983</td>\n",
       "    </tr>\n",
       "  </tbody>\n",
       "</table>\n",
       "</div>"
      ],
      "text/plain": [
       "              pcc_sim  top_1_conf\n",
       "top_1_label                      \n",
       "0.0          0.307594    0.108705\n",
       "1.0          0.375658    0.134063\n",
       "2.0          0.493112    0.086798\n",
       "3.0          0.492553    0.104839\n",
       "4.0          0.454021    0.086585\n",
       "5.0          0.430440    0.107235\n",
       "6.0          0.418413    0.102673\n",
       "7.0          0.498039    0.101570\n",
       "8.0          0.290654    0.121232\n",
       "9.0          0.404224    0.104983"
      ]
     },
     "execution_count": 30,
     "metadata": {},
     "output_type": "execute_result"
    }
   ],
   "source": [
    "mnist_adv[[\"pcc_sim\", \"top_1_label\", \"top_1_conf\"]].groupby([\"top_1_label\"]).std()"
   ]
  },
  {
   "cell_type": "code",
   "execution_count": 31,
   "metadata": {
    "scrolled": true
   },
   "outputs": [
    {
     "data": {
      "text/html": [
       "<div>\n",
       "<style scoped>\n",
       "    .dataframe tbody tr th:only-of-type {\n",
       "        vertical-align: middle;\n",
       "    }\n",
       "\n",
       "    .dataframe tbody tr th {\n",
       "        vertical-align: top;\n",
       "    }\n",
       "\n",
       "    .dataframe thead th {\n",
       "        text-align: right;\n",
       "    }\n",
       "</style>\n",
       "<table border=\"1\" class=\"dataframe\">\n",
       "  <thead>\n",
       "    <tr style=\"text-align: right;\">\n",
       "      <th></th>\n",
       "      <th>top_1_conf</th>\n",
       "      <th>pcc_sim</th>\n",
       "    </tr>\n",
       "  </thead>\n",
       "  <tbody>\n",
       "    <tr>\n",
       "      <th>top_1_conf</th>\n",
       "      <td>1.000000</td>\n",
       "      <td>-0.057694</td>\n",
       "    </tr>\n",
       "    <tr>\n",
       "      <th>pcc_sim</th>\n",
       "      <td>-0.057694</td>\n",
       "      <td>1.000000</td>\n",
       "    </tr>\n",
       "  </tbody>\n",
       "</table>\n",
       "</div>"
      ],
      "text/plain": [
       "            top_1_conf   pcc_sim\n",
       "top_1_conf    1.000000 -0.057694\n",
       "pcc_sim      -0.057694  1.000000"
      ]
     },
     "execution_count": 31,
     "metadata": {},
     "output_type": "execute_result"
    }
   ],
   "source": [
    "mnist_adv[[\"top_1_conf\", \"pcc_sim\"]].corr()"
   ]
  },
  {
   "cell_type": "code",
   "execution_count": 32,
   "metadata": {
    "scrolled": true
   },
   "outputs": [
    {
     "data": {
      "text/html": [
       "<div>\n",
       "<style scoped>\n",
       "    .dataframe tbody tr th:only-of-type {\n",
       "        vertical-align: middle;\n",
       "    }\n",
       "\n",
       "    .dataframe tbody tr th {\n",
       "        vertical-align: top;\n",
       "    }\n",
       "\n",
       "    .dataframe thead th {\n",
       "        text-align: right;\n",
       "    }\n",
       "</style>\n",
       "<table border=\"1\" class=\"dataframe\">\n",
       "  <thead>\n",
       "    <tr style=\"text-align: right;\">\n",
       "      <th></th>\n",
       "      <th>top_1_conf</th>\n",
       "      <th>pcc_sim</th>\n",
       "    </tr>\n",
       "  </thead>\n",
       "  <tbody>\n",
       "    <tr>\n",
       "      <th>top_1_conf</th>\n",
       "      <td>1.000000</td>\n",
       "      <td>0.144331</td>\n",
       "    </tr>\n",
       "    <tr>\n",
       "      <th>pcc_sim</th>\n",
       "      <td>0.144331</td>\n",
       "      <td>1.000000</td>\n",
       "    </tr>\n",
       "  </tbody>\n",
       "</table>\n",
       "</div>"
      ],
      "text/plain": [
       "            top_1_conf   pcc_sim\n",
       "top_1_conf    1.000000  0.144331\n",
       "pcc_sim       0.144331  1.000000"
      ]
     },
     "execution_count": 32,
     "metadata": {},
     "output_type": "execute_result"
    }
   ],
   "source": [
    "mnist_orig[[\"top_1_conf\", \"pcc_sim\"]].corr()"
   ]
  },
  {
   "cell_type": "markdown",
   "metadata": {},
   "source": [
    "## CIFAR10"
   ]
  },
  {
   "cell_type": "code",
   "execution_count": 63,
   "metadata": {
    "scrolled": true
   },
   "outputs": [
    {
     "data": {
      "text/html": [
       "<div>\n",
       "<style scoped>\n",
       "    .dataframe tbody tr th:only-of-type {\n",
       "        vertical-align: middle;\n",
       "    }\n",
       "\n",
       "    .dataframe tbody tr th {\n",
       "        vertical-align: top;\n",
       "    }\n",
       "\n",
       "    .dataframe thead th {\n",
       "        text-align: right;\n",
       "    }\n",
       "</style>\n",
       "<table border=\"1\" class=\"dataframe\">\n",
       "  <thead>\n",
       "    <tr style=\"text-align: right;\">\n",
       "      <th></th>\n",
       "      <th>top_1_conf</th>\n",
       "      <th>top_2_conf</th>\n",
       "      <th>mse_sim</th>\n",
       "    </tr>\n",
       "  </thead>\n",
       "  <tbody>\n",
       "    <tr>\n",
       "      <th>top_1_conf</th>\n",
       "      <td>1.000000</td>\n",
       "      <td>-0.817270</td>\n",
       "      <td>0.354153</td>\n",
       "    </tr>\n",
       "    <tr>\n",
       "      <th>top_2_conf</th>\n",
       "      <td>-0.817270</td>\n",
       "      <td>1.000000</td>\n",
       "      <td>-0.272865</td>\n",
       "    </tr>\n",
       "    <tr>\n",
       "      <th>mse_sim</th>\n",
       "      <td>0.354153</td>\n",
       "      <td>-0.272865</td>\n",
       "      <td>1.000000</td>\n",
       "    </tr>\n",
       "  </tbody>\n",
       "</table>\n",
       "</div>"
      ],
      "text/plain": [
       "            top_1_conf  top_2_conf   mse_sim\n",
       "top_1_conf    1.000000   -0.817270  0.354153\n",
       "top_2_conf   -0.817270    1.000000 -0.272865\n",
       "mse_sim       0.354153   -0.272865  1.000000"
      ]
     },
     "execution_count": 63,
     "metadata": {},
     "output_type": "execute_result"
    }
   ],
   "source": [
    "cifar10_orig[[\"top_1_conf\", \"top_2_conf\", \"mse_sim\"]].corr()"
   ]
  },
  {
   "cell_type": "code",
   "execution_count": 65,
   "metadata": {
    "scrolled": true
   },
   "outputs": [
    {
     "data": {
      "text/html": [
       "<div>\n",
       "<style scoped>\n",
       "    .dataframe tbody tr th:only-of-type {\n",
       "        vertical-align: middle;\n",
       "    }\n",
       "\n",
       "    .dataframe tbody tr th {\n",
       "        vertical-align: top;\n",
       "    }\n",
       "\n",
       "    .dataframe thead th {\n",
       "        text-align: right;\n",
       "    }\n",
       "</style>\n",
       "<table border=\"1\" class=\"dataframe\">\n",
       "  <thead>\n",
       "    <tr style=\"text-align: right;\">\n",
       "      <th></th>\n",
       "      <th>top_1_conf</th>\n",
       "      <th>top_2_conf</th>\n",
       "      <th>mse_sim</th>\n",
       "    </tr>\n",
       "  </thead>\n",
       "  <tbody>\n",
       "    <tr>\n",
       "      <th>top_1_conf</th>\n",
       "      <td>1.000000</td>\n",
       "      <td>-0.855023</td>\n",
       "      <td>0.478399</td>\n",
       "    </tr>\n",
       "    <tr>\n",
       "      <th>top_2_conf</th>\n",
       "      <td>-0.855023</td>\n",
       "      <td>1.000000</td>\n",
       "      <td>-0.383886</td>\n",
       "    </tr>\n",
       "    <tr>\n",
       "      <th>mse_sim</th>\n",
       "      <td>0.478399</td>\n",
       "      <td>-0.383886</td>\n",
       "      <td>1.000000</td>\n",
       "    </tr>\n",
       "  </tbody>\n",
       "</table>\n",
       "</div>"
      ],
      "text/plain": [
       "            top_1_conf  top_2_conf   mse_sim\n",
       "top_1_conf    1.000000   -0.855023  0.478399\n",
       "top_2_conf   -0.855023    1.000000 -0.383886\n",
       "mse_sim       0.478399   -0.383886  1.000000"
      ]
     },
     "execution_count": 65,
     "metadata": {},
     "output_type": "execute_result"
    }
   ],
   "source": [
    "cifar10_adv[[\"top_1_conf\", \"top_2_conf\", \"mse_sim\"]].corr()"
   ]
  },
  {
   "cell_type": "code",
   "execution_count": 67,
   "metadata": {},
   "outputs": [
    {
     "data": {
      "text/html": [
       "<div>\n",
       "<style scoped>\n",
       "    .dataframe tbody tr th:only-of-type {\n",
       "        vertical-align: middle;\n",
       "    }\n",
       "\n",
       "    .dataframe tbody tr th {\n",
       "        vertical-align: top;\n",
       "    }\n",
       "\n",
       "    .dataframe thead th {\n",
       "        text-align: right;\n",
       "    }\n",
       "</style>\n",
       "<table border=\"1\" class=\"dataframe\">\n",
       "  <thead>\n",
       "    <tr style=\"text-align: right;\">\n",
       "      <th></th>\n",
       "      <th>top_1_conf</th>\n",
       "      <th>top_2_conf</th>\n",
       "      <th>pcc_sim</th>\n",
       "    </tr>\n",
       "  </thead>\n",
       "  <tbody>\n",
       "    <tr>\n",
       "      <th>top_1_conf</th>\n",
       "      <td>1.00000</td>\n",
       "      <td>-0.817270</td>\n",
       "      <td>-0.206040</td>\n",
       "    </tr>\n",
       "    <tr>\n",
       "      <th>top_2_conf</th>\n",
       "      <td>-0.81727</td>\n",
       "      <td>1.000000</td>\n",
       "      <td>0.162154</td>\n",
       "    </tr>\n",
       "    <tr>\n",
       "      <th>pcc_sim</th>\n",
       "      <td>-0.20604</td>\n",
       "      <td>0.162154</td>\n",
       "      <td>1.000000</td>\n",
       "    </tr>\n",
       "  </tbody>\n",
       "</table>\n",
       "</div>"
      ],
      "text/plain": [
       "            top_1_conf  top_2_conf   pcc_sim\n",
       "top_1_conf     1.00000   -0.817270 -0.206040\n",
       "top_2_conf    -0.81727    1.000000  0.162154\n",
       "pcc_sim       -0.20604    0.162154  1.000000"
      ]
     },
     "execution_count": 67,
     "metadata": {},
     "output_type": "execute_result"
    }
   ],
   "source": [
    "cifar10_orig[[\"top_1_conf\", \"top_2_conf\", \"pcc_sim\"]].corr()"
   ]
  },
  {
   "cell_type": "code",
   "execution_count": 69,
   "metadata": {},
   "outputs": [
    {
     "data": {
      "text/html": [
       "<div>\n",
       "<style scoped>\n",
       "    .dataframe tbody tr th:only-of-type {\n",
       "        vertical-align: middle;\n",
       "    }\n",
       "\n",
       "    .dataframe tbody tr th {\n",
       "        vertical-align: top;\n",
       "    }\n",
       "\n",
       "    .dataframe thead th {\n",
       "        text-align: right;\n",
       "    }\n",
       "</style>\n",
       "<table border=\"1\" class=\"dataframe\">\n",
       "  <thead>\n",
       "    <tr style=\"text-align: right;\">\n",
       "      <th></th>\n",
       "      <th>top_1_conf</th>\n",
       "      <th>top_2_conf</th>\n",
       "      <th>pcc_sim</th>\n",
       "    </tr>\n",
       "  </thead>\n",
       "  <tbody>\n",
       "    <tr>\n",
       "      <th>top_1_conf</th>\n",
       "      <td>1.000000</td>\n",
       "      <td>-0.855023</td>\n",
       "      <td>-0.122604</td>\n",
       "    </tr>\n",
       "    <tr>\n",
       "      <th>top_2_conf</th>\n",
       "      <td>-0.855023</td>\n",
       "      <td>1.000000</td>\n",
       "      <td>0.081272</td>\n",
       "    </tr>\n",
       "    <tr>\n",
       "      <th>pcc_sim</th>\n",
       "      <td>-0.122604</td>\n",
       "      <td>0.081272</td>\n",
       "      <td>1.000000</td>\n",
       "    </tr>\n",
       "  </tbody>\n",
       "</table>\n",
       "</div>"
      ],
      "text/plain": [
       "            top_1_conf  top_2_conf   pcc_sim\n",
       "top_1_conf    1.000000   -0.855023 -0.122604\n",
       "top_2_conf   -0.855023    1.000000  0.081272\n",
       "pcc_sim      -0.122604    0.081272  1.000000"
      ]
     },
     "execution_count": 69,
     "metadata": {},
     "output_type": "execute_result"
    }
   ],
   "source": [
    "cifar10_adv[[\"top_1_conf\", \"top_2_conf\", \"pcc_sim\"]].corr()"
   ]
  },
  {
   "cell_type": "code",
   "execution_count": 66,
   "metadata": {
    "scrolled": true
   },
   "outputs": [
    {
     "data": {
      "text/html": [
       "<div>\n",
       "<style scoped>\n",
       "    .dataframe tbody tr th:only-of-type {\n",
       "        vertical-align: middle;\n",
       "    }\n",
       "\n",
       "    .dataframe tbody tr th {\n",
       "        vertical-align: top;\n",
       "    }\n",
       "\n",
       "    .dataframe thead th {\n",
       "        text-align: right;\n",
       "    }\n",
       "</style>\n",
       "<table border=\"1\" class=\"dataframe\">\n",
       "  <thead>\n",
       "    <tr style=\"text-align: right;\">\n",
       "      <th></th>\n",
       "      <th></th>\n",
       "      <th>top_2_conf</th>\n",
       "      <th>mse_sim</th>\n",
       "    </tr>\n",
       "    <tr>\n",
       "      <th>top_2_label</th>\n",
       "      <th></th>\n",
       "      <th></th>\n",
       "      <th></th>\n",
       "    </tr>\n",
       "  </thead>\n",
       "  <tbody>\n",
       "    <tr>\n",
       "      <th rowspan=\"2\" valign=\"top\">0.0</th>\n",
       "      <th>top_2_conf</th>\n",
       "      <td>1.000000</td>\n",
       "      <td>-0.209506</td>\n",
       "    </tr>\n",
       "    <tr>\n",
       "      <th>mse_sim</th>\n",
       "      <td>-0.209506</td>\n",
       "      <td>1.000000</td>\n",
       "    </tr>\n",
       "    <tr>\n",
       "      <th rowspan=\"2\" valign=\"top\">1.0</th>\n",
       "      <th>top_2_conf</th>\n",
       "      <td>1.000000</td>\n",
       "      <td>0.115815</td>\n",
       "    </tr>\n",
       "    <tr>\n",
       "      <th>mse_sim</th>\n",
       "      <td>0.115815</td>\n",
       "      <td>1.000000</td>\n",
       "    </tr>\n",
       "    <tr>\n",
       "      <th rowspan=\"2\" valign=\"top\">2.0</th>\n",
       "      <th>top_2_conf</th>\n",
       "      <td>1.000000</td>\n",
       "      <td>-0.290492</td>\n",
       "    </tr>\n",
       "    <tr>\n",
       "      <th>mse_sim</th>\n",
       "      <td>-0.290492</td>\n",
       "      <td>1.000000</td>\n",
       "    </tr>\n",
       "    <tr>\n",
       "      <th rowspan=\"2\" valign=\"top\">3.0</th>\n",
       "      <th>top_2_conf</th>\n",
       "      <td>1.000000</td>\n",
       "      <td>-0.215589</td>\n",
       "    </tr>\n",
       "    <tr>\n",
       "      <th>mse_sim</th>\n",
       "      <td>-0.215589</td>\n",
       "      <td>1.000000</td>\n",
       "    </tr>\n",
       "    <tr>\n",
       "      <th rowspan=\"2\" valign=\"top\">4.0</th>\n",
       "      <th>top_2_conf</th>\n",
       "      <td>1.000000</td>\n",
       "      <td>-0.028500</td>\n",
       "    </tr>\n",
       "    <tr>\n",
       "      <th>mse_sim</th>\n",
       "      <td>-0.028500</td>\n",
       "      <td>1.000000</td>\n",
       "    </tr>\n",
       "    <tr>\n",
       "      <th rowspan=\"2\" valign=\"top\">5.0</th>\n",
       "      <th>top_2_conf</th>\n",
       "      <td>1.000000</td>\n",
       "      <td>-0.307089</td>\n",
       "    </tr>\n",
       "    <tr>\n",
       "      <th>mse_sim</th>\n",
       "      <td>-0.307089</td>\n",
       "      <td>1.000000</td>\n",
       "    </tr>\n",
       "    <tr>\n",
       "      <th rowspan=\"2\" valign=\"top\">6.0</th>\n",
       "      <th>top_2_conf</th>\n",
       "      <td>1.000000</td>\n",
       "      <td>-0.239539</td>\n",
       "    </tr>\n",
       "    <tr>\n",
       "      <th>mse_sim</th>\n",
       "      <td>-0.239539</td>\n",
       "      <td>1.000000</td>\n",
       "    </tr>\n",
       "    <tr>\n",
       "      <th rowspan=\"2\" valign=\"top\">7.0</th>\n",
       "      <th>top_2_conf</th>\n",
       "      <td>1.000000</td>\n",
       "      <td>-0.369794</td>\n",
       "    </tr>\n",
       "    <tr>\n",
       "      <th>mse_sim</th>\n",
       "      <td>-0.369794</td>\n",
       "      <td>1.000000</td>\n",
       "    </tr>\n",
       "    <tr>\n",
       "      <th rowspan=\"2\" valign=\"top\">8.0</th>\n",
       "      <th>top_2_conf</th>\n",
       "      <td>1.000000</td>\n",
       "      <td>-0.109579</td>\n",
       "    </tr>\n",
       "    <tr>\n",
       "      <th>mse_sim</th>\n",
       "      <td>-0.109579</td>\n",
       "      <td>1.000000</td>\n",
       "    </tr>\n",
       "    <tr>\n",
       "      <th rowspan=\"2\" valign=\"top\">9.0</th>\n",
       "      <th>top_2_conf</th>\n",
       "      <td>1.000000</td>\n",
       "      <td>-0.014091</td>\n",
       "    </tr>\n",
       "    <tr>\n",
       "      <th>mse_sim</th>\n",
       "      <td>-0.014091</td>\n",
       "      <td>1.000000</td>\n",
       "    </tr>\n",
       "  </tbody>\n",
       "</table>\n",
       "</div>"
      ],
      "text/plain": [
       "                        top_2_conf   mse_sim\n",
       "top_2_label                                 \n",
       "0.0         top_2_conf    1.000000 -0.209506\n",
       "            mse_sim      -0.209506  1.000000\n",
       "1.0         top_2_conf    1.000000  0.115815\n",
       "            mse_sim       0.115815  1.000000\n",
       "2.0         top_2_conf    1.000000 -0.290492\n",
       "            mse_sim      -0.290492  1.000000\n",
       "3.0         top_2_conf    1.000000 -0.215589\n",
       "            mse_sim      -0.215589  1.000000\n",
       "4.0         top_2_conf    1.000000 -0.028500\n",
       "            mse_sim      -0.028500  1.000000\n",
       "5.0         top_2_conf    1.000000 -0.307089\n",
       "            mse_sim      -0.307089  1.000000\n",
       "6.0         top_2_conf    1.000000 -0.239539\n",
       "            mse_sim      -0.239539  1.000000\n",
       "7.0         top_2_conf    1.000000 -0.369794\n",
       "            mse_sim      -0.369794  1.000000\n",
       "8.0         top_2_conf    1.000000 -0.109579\n",
       "            mse_sim      -0.109579  1.000000\n",
       "9.0         top_2_conf    1.000000 -0.014091\n",
       "            mse_sim      -0.014091  1.000000"
      ]
     },
     "execution_count": 66,
     "metadata": {},
     "output_type": "execute_result"
    }
   ],
   "source": [
    "cifar10_orig[[\"top_2_conf\", \"top_2_label\", \"mse_sim\"]].groupby([\"top_2_label\"]).corr()"
   ]
  },
  {
   "cell_type": "code",
   "execution_count": 70,
   "metadata": {},
   "outputs": [
    {
     "data": {
      "text/html": [
       "<div>\n",
       "<style scoped>\n",
       "    .dataframe tbody tr th:only-of-type {\n",
       "        vertical-align: middle;\n",
       "    }\n",
       "\n",
       "    .dataframe tbody tr th {\n",
       "        vertical-align: top;\n",
       "    }\n",
       "\n",
       "    .dataframe thead th {\n",
       "        text-align: right;\n",
       "    }\n",
       "</style>\n",
       "<table border=\"1\" class=\"dataframe\">\n",
       "  <thead>\n",
       "    <tr style=\"text-align: right;\">\n",
       "      <th></th>\n",
       "      <th></th>\n",
       "      <th>top_2_conf</th>\n",
       "      <th>pcc_sim</th>\n",
       "    </tr>\n",
       "    <tr>\n",
       "      <th>top_2_label</th>\n",
       "      <th></th>\n",
       "      <th></th>\n",
       "      <th></th>\n",
       "    </tr>\n",
       "  </thead>\n",
       "  <tbody>\n",
       "    <tr>\n",
       "      <th rowspan=\"2\" valign=\"top\">0.0</th>\n",
       "      <th>top_2_conf</th>\n",
       "      <td>1.000000</td>\n",
       "      <td>0.092014</td>\n",
       "    </tr>\n",
       "    <tr>\n",
       "      <th>pcc_sim</th>\n",
       "      <td>0.092014</td>\n",
       "      <td>1.000000</td>\n",
       "    </tr>\n",
       "    <tr>\n",
       "      <th rowspan=\"2\" valign=\"top\">1.0</th>\n",
       "      <th>top_2_conf</th>\n",
       "      <td>1.000000</td>\n",
       "      <td>-0.110068</td>\n",
       "    </tr>\n",
       "    <tr>\n",
       "      <th>pcc_sim</th>\n",
       "      <td>-0.110068</td>\n",
       "      <td>1.000000</td>\n",
       "    </tr>\n",
       "    <tr>\n",
       "      <th rowspan=\"2\" valign=\"top\">2.0</th>\n",
       "      <th>top_2_conf</th>\n",
       "      <td>1.000000</td>\n",
       "      <td>0.238099</td>\n",
       "    </tr>\n",
       "    <tr>\n",
       "      <th>pcc_sim</th>\n",
       "      <td>0.238099</td>\n",
       "      <td>1.000000</td>\n",
       "    </tr>\n",
       "    <tr>\n",
       "      <th rowspan=\"2\" valign=\"top\">3.0</th>\n",
       "      <th>top_2_conf</th>\n",
       "      <td>1.000000</td>\n",
       "      <td>0.170481</td>\n",
       "    </tr>\n",
       "    <tr>\n",
       "      <th>pcc_sim</th>\n",
       "      <td>0.170481</td>\n",
       "      <td>1.000000</td>\n",
       "    </tr>\n",
       "    <tr>\n",
       "      <th rowspan=\"2\" valign=\"top\">4.0</th>\n",
       "      <th>top_2_conf</th>\n",
       "      <td>1.000000</td>\n",
       "      <td>0.053746</td>\n",
       "    </tr>\n",
       "    <tr>\n",
       "      <th>pcc_sim</th>\n",
       "      <td>0.053746</td>\n",
       "      <td>1.000000</td>\n",
       "    </tr>\n",
       "    <tr>\n",
       "      <th rowspan=\"2\" valign=\"top\">5.0</th>\n",
       "      <th>top_2_conf</th>\n",
       "      <td>1.000000</td>\n",
       "      <td>0.175773</td>\n",
       "    </tr>\n",
       "    <tr>\n",
       "      <th>pcc_sim</th>\n",
       "      <td>0.175773</td>\n",
       "      <td>1.000000</td>\n",
       "    </tr>\n",
       "    <tr>\n",
       "      <th rowspan=\"2\" valign=\"top\">6.0</th>\n",
       "      <th>top_2_conf</th>\n",
       "      <td>1.000000</td>\n",
       "      <td>0.124441</td>\n",
       "    </tr>\n",
       "    <tr>\n",
       "      <th>pcc_sim</th>\n",
       "      <td>0.124441</td>\n",
       "      <td>1.000000</td>\n",
       "    </tr>\n",
       "    <tr>\n",
       "      <th rowspan=\"2\" valign=\"top\">7.0</th>\n",
       "      <th>top_2_conf</th>\n",
       "      <td>1.000000</td>\n",
       "      <td>0.196383</td>\n",
       "    </tr>\n",
       "    <tr>\n",
       "      <th>pcc_sim</th>\n",
       "      <td>0.196383</td>\n",
       "      <td>1.000000</td>\n",
       "    </tr>\n",
       "    <tr>\n",
       "      <th rowspan=\"2\" valign=\"top\">8.0</th>\n",
       "      <th>top_2_conf</th>\n",
       "      <td>1.000000</td>\n",
       "      <td>0.103060</td>\n",
       "    </tr>\n",
       "    <tr>\n",
       "      <th>pcc_sim</th>\n",
       "      <td>0.103060</td>\n",
       "      <td>1.000000</td>\n",
       "    </tr>\n",
       "    <tr>\n",
       "      <th rowspan=\"2\" valign=\"top\">9.0</th>\n",
       "      <th>top_2_conf</th>\n",
       "      <td>1.000000</td>\n",
       "      <td>0.028027</td>\n",
       "    </tr>\n",
       "    <tr>\n",
       "      <th>pcc_sim</th>\n",
       "      <td>0.028027</td>\n",
       "      <td>1.000000</td>\n",
       "    </tr>\n",
       "  </tbody>\n",
       "</table>\n",
       "</div>"
      ],
      "text/plain": [
       "                        top_2_conf   pcc_sim\n",
       "top_2_label                                 \n",
       "0.0         top_2_conf    1.000000  0.092014\n",
       "            pcc_sim       0.092014  1.000000\n",
       "1.0         top_2_conf    1.000000 -0.110068\n",
       "            pcc_sim      -0.110068  1.000000\n",
       "2.0         top_2_conf    1.000000  0.238099\n",
       "            pcc_sim       0.238099  1.000000\n",
       "3.0         top_2_conf    1.000000  0.170481\n",
       "            pcc_sim       0.170481  1.000000\n",
       "4.0         top_2_conf    1.000000  0.053746\n",
       "            pcc_sim       0.053746  1.000000\n",
       "5.0         top_2_conf    1.000000  0.175773\n",
       "            pcc_sim       0.175773  1.000000\n",
       "6.0         top_2_conf    1.000000  0.124441\n",
       "            pcc_sim       0.124441  1.000000\n",
       "7.0         top_2_conf    1.000000  0.196383\n",
       "            pcc_sim       0.196383  1.000000\n",
       "8.0         top_2_conf    1.000000  0.103060\n",
       "            pcc_sim       0.103060  1.000000\n",
       "9.0         top_2_conf    1.000000  0.028027\n",
       "            pcc_sim       0.028027  1.000000"
      ]
     },
     "execution_count": 70,
     "metadata": {},
     "output_type": "execute_result"
    }
   ],
   "source": [
    "cifar10_orig[[\"top_2_conf\", \"top_2_label\", \"pcc_sim\"]].groupby([\"top_2_label\"]).corr()"
   ]
  },
  {
   "cell_type": "code",
   "execution_count": null,
   "metadata": {},
   "outputs": [],
   "source": []
  },
  {
   "cell_type": "code",
   "execution_count": null,
   "metadata": {},
   "outputs": [],
   "source": [
    "cifar10_adv[[\"top_1_conf\", \"top_1_label\", \"pcc_sim\"]].groupby([\"top_1_label\"]).corr()"
   ]
  },
  {
   "cell_type": "code",
   "execution_count": 34,
   "metadata": {
    "scrolled": false
   },
   "outputs": [
    {
     "data": {
      "text/html": [
       "<div>\n",
       "<style scoped>\n",
       "    .dataframe tbody tr th:only-of-type {\n",
       "        vertical-align: middle;\n",
       "    }\n",
       "\n",
       "    .dataframe tbody tr th {\n",
       "        vertical-align: top;\n",
       "    }\n",
       "\n",
       "    .dataframe thead th {\n",
       "        text-align: right;\n",
       "    }\n",
       "</style>\n",
       "<table border=\"1\" class=\"dataframe\">\n",
       "  <thead>\n",
       "    <tr style=\"text-align: right;\">\n",
       "      <th></th>\n",
       "      <th></th>\n",
       "      <th>top_1_conf</th>\n",
       "      <th>pcc_sim</th>\n",
       "    </tr>\n",
       "    <tr>\n",
       "      <th>top_1_label</th>\n",
       "      <th></th>\n",
       "      <th></th>\n",
       "      <th></th>\n",
       "    </tr>\n",
       "  </thead>\n",
       "  <tbody>\n",
       "    <tr>\n",
       "      <th rowspan=\"2\" valign=\"top\">0.0</th>\n",
       "      <th>top_1_conf</th>\n",
       "      <td>1.000000</td>\n",
       "      <td>0.257283</td>\n",
       "    </tr>\n",
       "    <tr>\n",
       "      <th>pcc_sim</th>\n",
       "      <td>0.257283</td>\n",
       "      <td>1.000000</td>\n",
       "    </tr>\n",
       "    <tr>\n",
       "      <th rowspan=\"2\" valign=\"top\">1.0</th>\n",
       "      <th>top_1_conf</th>\n",
       "      <td>1.000000</td>\n",
       "      <td>-0.456632</td>\n",
       "    </tr>\n",
       "    <tr>\n",
       "      <th>pcc_sim</th>\n",
       "      <td>-0.456632</td>\n",
       "      <td>1.000000</td>\n",
       "    </tr>\n",
       "    <tr>\n",
       "      <th rowspan=\"2\" valign=\"top\">2.0</th>\n",
       "      <th>top_1_conf</th>\n",
       "      <td>1.000000</td>\n",
       "      <td>-0.222477</td>\n",
       "    </tr>\n",
       "    <tr>\n",
       "      <th>pcc_sim</th>\n",
       "      <td>-0.222477</td>\n",
       "      <td>1.000000</td>\n",
       "    </tr>\n",
       "    <tr>\n",
       "      <th rowspan=\"2\" valign=\"top\">3.0</th>\n",
       "      <th>top_1_conf</th>\n",
       "      <td>1.000000</td>\n",
       "      <td>-0.162795</td>\n",
       "    </tr>\n",
       "    <tr>\n",
       "      <th>pcc_sim</th>\n",
       "      <td>-0.162795</td>\n",
       "      <td>1.000000</td>\n",
       "    </tr>\n",
       "    <tr>\n",
       "      <th rowspan=\"2\" valign=\"top\">4.0</th>\n",
       "      <th>top_1_conf</th>\n",
       "      <td>1.000000</td>\n",
       "      <td>-0.376126</td>\n",
       "    </tr>\n",
       "    <tr>\n",
       "      <th>pcc_sim</th>\n",
       "      <td>-0.376126</td>\n",
       "      <td>1.000000</td>\n",
       "    </tr>\n",
       "    <tr>\n",
       "      <th rowspan=\"2\" valign=\"top\">5.0</th>\n",
       "      <th>top_1_conf</th>\n",
       "      <td>1.000000</td>\n",
       "      <td>0.085683</td>\n",
       "    </tr>\n",
       "    <tr>\n",
       "      <th>pcc_sim</th>\n",
       "      <td>0.085683</td>\n",
       "      <td>1.000000</td>\n",
       "    </tr>\n",
       "    <tr>\n",
       "      <th rowspan=\"2\" valign=\"top\">6.0</th>\n",
       "      <th>top_1_conf</th>\n",
       "      <td>1.000000</td>\n",
       "      <td>0.025646</td>\n",
       "    </tr>\n",
       "    <tr>\n",
       "      <th>pcc_sim</th>\n",
       "      <td>0.025646</td>\n",
       "      <td>1.000000</td>\n",
       "    </tr>\n",
       "    <tr>\n",
       "      <th rowspan=\"2\" valign=\"top\">7.0</th>\n",
       "      <th>top_1_conf</th>\n",
       "      <td>1.000000</td>\n",
       "      <td>0.074272</td>\n",
       "    </tr>\n",
       "    <tr>\n",
       "      <th>pcc_sim</th>\n",
       "      <td>0.074272</td>\n",
       "      <td>1.000000</td>\n",
       "    </tr>\n",
       "    <tr>\n",
       "      <th rowspan=\"2\" valign=\"top\">8.0</th>\n",
       "      <th>top_1_conf</th>\n",
       "      <td>1.000000</td>\n",
       "      <td>0.417762</td>\n",
       "    </tr>\n",
       "    <tr>\n",
       "      <th>pcc_sim</th>\n",
       "      <td>0.417762</td>\n",
       "      <td>1.000000</td>\n",
       "    </tr>\n",
       "    <tr>\n",
       "      <th rowspan=\"2\" valign=\"top\">9.0</th>\n",
       "      <th>top_1_conf</th>\n",
       "      <td>1.000000</td>\n",
       "      <td>0.295169</td>\n",
       "    </tr>\n",
       "    <tr>\n",
       "      <th>pcc_sim</th>\n",
       "      <td>0.295169</td>\n",
       "      <td>1.000000</td>\n",
       "    </tr>\n",
       "  </tbody>\n",
       "</table>\n",
       "</div>"
      ],
      "text/plain": [
       "                        top_1_conf   pcc_sim\n",
       "top_1_label                                 \n",
       "0.0         top_1_conf    1.000000  0.257283\n",
       "            pcc_sim       0.257283  1.000000\n",
       "1.0         top_1_conf    1.000000 -0.456632\n",
       "            pcc_sim      -0.456632  1.000000\n",
       "2.0         top_1_conf    1.000000 -0.222477\n",
       "            pcc_sim      -0.222477  1.000000\n",
       "3.0         top_1_conf    1.000000 -0.162795\n",
       "            pcc_sim      -0.162795  1.000000\n",
       "4.0         top_1_conf    1.000000 -0.376126\n",
       "            pcc_sim      -0.376126  1.000000\n",
       "5.0         top_1_conf    1.000000  0.085683\n",
       "            pcc_sim       0.085683  1.000000\n",
       "6.0         top_1_conf    1.000000  0.025646\n",
       "            pcc_sim       0.025646  1.000000\n",
       "7.0         top_1_conf    1.000000  0.074272\n",
       "            pcc_sim       0.074272  1.000000\n",
       "8.0         top_1_conf    1.000000  0.417762\n",
       "            pcc_sim       0.417762  1.000000\n",
       "9.0         top_1_conf    1.000000  0.295169\n",
       "            pcc_sim       0.295169  1.000000"
      ]
     },
     "execution_count": 34,
     "metadata": {},
     "output_type": "execute_result"
    }
   ],
   "source": [
    "fashion_mnist_adv[[\"top_1_conf\", \"top_1_label\", \"pcc_sim\"]].groupby([\"top_1_label\"]).corr()"
   ]
  },
  {
   "cell_type": "code",
   "execution_count": 35,
   "metadata": {},
   "outputs": [
    {
     "data": {
      "text/html": [
       "<div>\n",
       "<style scoped>\n",
       "    .dataframe tbody tr th:only-of-type {\n",
       "        vertical-align: middle;\n",
       "    }\n",
       "\n",
       "    .dataframe tbody tr th {\n",
       "        vertical-align: top;\n",
       "    }\n",
       "\n",
       "    .dataframe thead th {\n",
       "        text-align: right;\n",
       "    }\n",
       "</style>\n",
       "<table border=\"1\" class=\"dataframe\">\n",
       "  <thead>\n",
       "    <tr style=\"text-align: right;\">\n",
       "      <th></th>\n",
       "      <th></th>\n",
       "      <th>top_1_conf</th>\n",
       "      <th>pcc_sim</th>\n",
       "    </tr>\n",
       "    <tr>\n",
       "      <th>top_1_label</th>\n",
       "      <th></th>\n",
       "      <th></th>\n",
       "      <th></th>\n",
       "    </tr>\n",
       "  </thead>\n",
       "  <tbody>\n",
       "    <tr>\n",
       "      <th rowspan=\"2\" valign=\"top\">0.0</th>\n",
       "      <th>top_1_conf</th>\n",
       "      <td>1.000000</td>\n",
       "      <td>0.405141</td>\n",
       "    </tr>\n",
       "    <tr>\n",
       "      <th>pcc_sim</th>\n",
       "      <td>0.405141</td>\n",
       "      <td>1.000000</td>\n",
       "    </tr>\n",
       "    <tr>\n",
       "      <th rowspan=\"2\" valign=\"top\">1.0</th>\n",
       "      <th>top_1_conf</th>\n",
       "      <td>1.000000</td>\n",
       "      <td>0.007078</td>\n",
       "    </tr>\n",
       "    <tr>\n",
       "      <th>pcc_sim</th>\n",
       "      <td>0.007078</td>\n",
       "      <td>1.000000</td>\n",
       "    </tr>\n",
       "    <tr>\n",
       "      <th rowspan=\"2\" valign=\"top\">2.0</th>\n",
       "      <th>top_1_conf</th>\n",
       "      <td>1.000000</td>\n",
       "      <td>0.179866</td>\n",
       "    </tr>\n",
       "    <tr>\n",
       "      <th>pcc_sim</th>\n",
       "      <td>0.179866</td>\n",
       "      <td>1.000000</td>\n",
       "    </tr>\n",
       "    <tr>\n",
       "      <th rowspan=\"2\" valign=\"top\">3.0</th>\n",
       "      <th>top_1_conf</th>\n",
       "      <td>1.000000</td>\n",
       "      <td>0.088799</td>\n",
       "    </tr>\n",
       "    <tr>\n",
       "      <th>pcc_sim</th>\n",
       "      <td>0.088799</td>\n",
       "      <td>1.000000</td>\n",
       "    </tr>\n",
       "    <tr>\n",
       "      <th rowspan=\"2\" valign=\"top\">4.0</th>\n",
       "      <th>top_1_conf</th>\n",
       "      <td>1.000000</td>\n",
       "      <td>-0.265786</td>\n",
       "    </tr>\n",
       "    <tr>\n",
       "      <th>pcc_sim</th>\n",
       "      <td>-0.265786</td>\n",
       "      <td>1.000000</td>\n",
       "    </tr>\n",
       "    <tr>\n",
       "      <th rowspan=\"2\" valign=\"top\">5.0</th>\n",
       "      <th>top_1_conf</th>\n",
       "      <td>1.000000</td>\n",
       "      <td>0.146438</td>\n",
       "    </tr>\n",
       "    <tr>\n",
       "      <th>pcc_sim</th>\n",
       "      <td>0.146438</td>\n",
       "      <td>1.000000</td>\n",
       "    </tr>\n",
       "    <tr>\n",
       "      <th rowspan=\"2\" valign=\"top\">6.0</th>\n",
       "      <th>top_1_conf</th>\n",
       "      <td>1.000000</td>\n",
       "      <td>-0.135694</td>\n",
       "    </tr>\n",
       "    <tr>\n",
       "      <th>pcc_sim</th>\n",
       "      <td>-0.135694</td>\n",
       "      <td>1.000000</td>\n",
       "    </tr>\n",
       "    <tr>\n",
       "      <th rowspan=\"2\" valign=\"top\">7.0</th>\n",
       "      <th>top_1_conf</th>\n",
       "      <td>1.000000</td>\n",
       "      <td>0.222074</td>\n",
       "    </tr>\n",
       "    <tr>\n",
       "      <th>pcc_sim</th>\n",
       "      <td>0.222074</td>\n",
       "      <td>1.000000</td>\n",
       "    </tr>\n",
       "    <tr>\n",
       "      <th rowspan=\"2\" valign=\"top\">8.0</th>\n",
       "      <th>top_1_conf</th>\n",
       "      <td>1.000000</td>\n",
       "      <td>0.015313</td>\n",
       "    </tr>\n",
       "    <tr>\n",
       "      <th>pcc_sim</th>\n",
       "      <td>0.015313</td>\n",
       "      <td>1.000000</td>\n",
       "    </tr>\n",
       "    <tr>\n",
       "      <th rowspan=\"2\" valign=\"top\">9.0</th>\n",
       "      <th>top_1_conf</th>\n",
       "      <td>1.000000</td>\n",
       "      <td>0.149980</td>\n",
       "    </tr>\n",
       "    <tr>\n",
       "      <th>pcc_sim</th>\n",
       "      <td>0.149980</td>\n",
       "      <td>1.000000</td>\n",
       "    </tr>\n",
       "  </tbody>\n",
       "</table>\n",
       "</div>"
      ],
      "text/plain": [
       "                        top_1_conf   pcc_sim\n",
       "top_1_label                                 \n",
       "0.0         top_1_conf    1.000000  0.405141\n",
       "            pcc_sim       0.405141  1.000000\n",
       "1.0         top_1_conf    1.000000  0.007078\n",
       "            pcc_sim       0.007078  1.000000\n",
       "2.0         top_1_conf    1.000000  0.179866\n",
       "            pcc_sim       0.179866  1.000000\n",
       "3.0         top_1_conf    1.000000  0.088799\n",
       "            pcc_sim       0.088799  1.000000\n",
       "4.0         top_1_conf    1.000000 -0.265786\n",
       "            pcc_sim      -0.265786  1.000000\n",
       "5.0         top_1_conf    1.000000  0.146438\n",
       "            pcc_sim       0.146438  1.000000\n",
       "6.0         top_1_conf    1.000000 -0.135694\n",
       "            pcc_sim      -0.135694  1.000000\n",
       "7.0         top_1_conf    1.000000  0.222074\n",
       "            pcc_sim       0.222074  1.000000\n",
       "8.0         top_1_conf    1.000000  0.015313\n",
       "            pcc_sim       0.015313  1.000000\n",
       "9.0         top_1_conf    1.000000  0.149980\n",
       "            pcc_sim       0.149980  1.000000"
      ]
     },
     "execution_count": 35,
     "metadata": {},
     "output_type": "execute_result"
    }
   ],
   "source": [
    "fashion_mnist_orig[[\"top_1_conf\", \"top_1_label\", \"pcc_sim\"]].groupby([\"top_1_label\"]).corr()"
   ]
  },
  {
   "cell_type": "code",
   "execution_count": 36,
   "metadata": {
    "scrolled": false
   },
   "outputs": [
    {
     "data": {
      "text/plain": [
       "top_1_label\n",
       "0.0    [[AxesSubplot(0.125,0.551739;0.336957x0.328261...\n",
       "1.0    [[AxesSubplot(0.125,0.551739;0.336957x0.328261...\n",
       "2.0    [[AxesSubplot(0.125,0.551739;0.336957x0.328261...\n",
       "3.0    [[AxesSubplot(0.125,0.551739;0.336957x0.328261...\n",
       "4.0    [[AxesSubplot(0.125,0.551739;0.336957x0.328261...\n",
       "5.0    [[AxesSubplot(0.125,0.551739;0.336957x0.328261...\n",
       "6.0    [[AxesSubplot(0.125,0.551739;0.336957x0.328261...\n",
       "7.0    [[AxesSubplot(0.125,0.551739;0.336957x0.328261...\n",
       "8.0    [[AxesSubplot(0.125,0.551739;0.336957x0.328261...\n",
       "9.0    [[AxesSubplot(0.125,0.551739;0.336957x0.328261...\n",
       "dtype: object"
      ]
     },
     "execution_count": 36,
     "metadata": {},
     "output_type": "execute_result"
    },
    {
     "data": {
      "image/png": "[encoded data removed]",
      "text/plain": [
       "<Figure size 432x288 with 4 Axes>"
      ]
     },
     "metadata": {
      "needs_background": "light"
     },
     "output_type": "display_data"
    },
    {
     "data": {
      "image/png": "[encoded data removed]",
      "text/plain": [
       "<Figure size 432x288 with 4 Axes>"
      ]
     },
     "metadata": {
      "needs_background": "light"
     },
     "output_type": "display_data"
    },
    {
     "data": {
      "image/png": "[encoded data removed]",
      "text/plain": [
       "<Figure size 432x288 with 4 Axes>"
      ]
     },
     "metadata": {
      "needs_background": "light"
     },
     "output_type": "display_data"
    },
    {
     "data": {
      "image/png": "[encoded data removed]",
      "text/plain": [
       "<Figure size 432x288 with 4 Axes>"
      ]
     },
     "metadata": {
      "needs_background": "light"
     },
     "output_type": "display_data"
    },
    {
     "data": {
      "image/png": "[encoded data removed]",
      "text/plain": [
       "<Figure size 432x288 with 4 Axes>"
      ]
     },
     "metadata": {
      "needs_background": "light"
     },
     "output_type": "display_data"
    },
    {
     "data": {
      "image/png": "[encoded data removed]",
      "text/plain": [
       "<Figure size 432x288 with 4 Axes>"
      ]
     },
     "metadata": {
      "needs_background": "light"
     },
     "output_type": "display_data"
    },
    {
     "data": {
      "image/png": "[encoded data removed]",
      "text/plain": [
       "<Figure size 432x288 with 4 Axes>"
      ]
     },
     "metadata": {
      "needs_background": "light"
     },
     "output_type": "display_data"
    },
    {
     "data": {
      "image/png": "[encoded data removed]",
      "text/plain": [
       "<Figure size 432x288 with 4 Axes>"
      ]
     },
     "metadata": {
      "needs_background": "light"
     },
     "output_type": "display_data"
    },
    {
     "data": {
      "image/png": "[encoded data removed]",
      "text/plain": [
       "<Figure size 432x288 with 4 Axes>"
      ]
     },
     "metadata": {
      "needs_background": "light"
     },
     "output_type": "display_data"
    },
    {
     "data": {
      "image/png": "[encoded data removed]",
      "text/plain": [
       "<Figure size 432x288 with 4 Axes>"
      ]
     },
     "metadata": {
      "needs_background": "light"
     },
     "output_type": "display_data"
    }
   ],
   "source": [
    "mnist_adv[[\"top_1_conf\", \"top_1_label\", \"pcc_sim\"]].groupby([\"top_1_label\"]).hist()"
   ]
  },
  {
   "cell_type": "code",
   "execution_count": 37,
   "metadata": {
    "scrolled": false
   },
   "outputs": [
    {
     "data": {
      "text/plain": [
       "top_1_label\n",
       "0.0    [[AxesSubplot(0.125,0.551739;0.336957x0.328261...\n",
       "1.0    [[AxesSubplot(0.125,0.551739;0.336957x0.328261...\n",
       "2.0    [[AxesSubplot(0.125,0.551739;0.336957x0.328261...\n",
       "3.0    [[AxesSubplot(0.125,0.551739;0.336957x0.328261...\n",
       "4.0    [[AxesSubplot(0.125,0.551739;0.336957x0.328261...\n",
       "5.0    [[AxesSubplot(0.125,0.551739;0.336957x0.328261...\n",
       "6.0    [[AxesSubplot(0.125,0.551739;0.336957x0.328261...\n",
       "7.0    [[AxesSubplot(0.125,0.551739;0.336957x0.328261...\n",
       "8.0    [[AxesSubplot(0.125,0.551739;0.336957x0.328261...\n",
       "9.0    [[AxesSubplot(0.125,0.551739;0.336957x0.328261...\n",
       "dtype: object"
      ]
     },
     "execution_count": 37,
     "metadata": {},
     "output_type": "execute_result"
    },
    {
     "data": {
      "image/png": "[encoded data removed]",
      "text/plain": [
       "<Figure size 432x288 with 4 Axes>"
      ]
     },
     "metadata": {
      "needs_background": "light"
     },
     "output_type": "display_data"
    },
    {
     "data": {
      "image/png": "[encoded data removed]",
      "text/plain": [
       "<Figure size 432x288 with 4 Axes>"
      ]
     },
     "metadata": {
      "needs_background": "light"
     },
     "output_type": "display_data"
    },
    {
     "data": {
      "image/png": "[encoded data removed]",
      "text/plain": [
       "<Figure size 432x288 with 4 Axes>"
      ]
     },
     "metadata": {
      "needs_background": "light"
     },
     "output_type": "display_data"
    },
    {
     "data": {
      "image/png": "[encoded data removed]",
      "text/plain": [
       "<Figure size 432x288 with 4 Axes>"
      ]
     },
     "metadata": {
      "needs_background": "light"
     },
     "output_type": "display_data"
    },
    {
     "data": {
      "image/png": "[encoded data removed]",
      "text/plain": [
       "<Figure size 432x288 with 4 Axes>"
      ]
     },
     "metadata": {
      "needs_background": "light"
     },
     "output_type": "display_data"
    },
    {
     "data": {
      "image/png": "[encoded data removed]",
      "text/plain": [
       "<Figure size 432x288 with 4 Axes>"
      ]
     },
     "metadata": {
      "needs_background": "light"
     },
     "output_type": "display_data"
    },
    {
     "data": {
      "image/png": "[encoded data removed]",
      "text/plain": [
       "<Figure size 432x288 with 4 Axes>"
      ]
     },
     "metadata": {
      "needs_background": "light"
     },
     "output_type": "display_data"
    },
    {
     "data": {
      "image/png": "[encoded data removed]",
      "text/plain": [
       "<Figure size 432x288 with 4 Axes>"
      ]
     },
     "metadata": {
      "needs_background": "light"
     },
     "output_type": "display_data"
    },
    {
     "data": {
      "image/png": "[encoded data removed]",
      "text/plain": [
       "<Figure size 432x288 with 4 Axes>"
      ]
     },
     "metadata": {
      "needs_background": "light"
     },
     "output_type": "display_data"
    },
    {
     "data": {
      "image/png": "[encoded data removed]",
      "text/plain": [
       "<Figure size 432x288 with 4 Axes>"
      ]
     },
     "metadata": {
      "needs_background": "light"
     },
     "output_type": "display_data"
    }
   ],
   "source": [
    "mnist_orig[[\"top_1_conf\", \"top_1_label\", \"pcc_sim\"]].groupby([\"top_1_label\"]).hist()"
   ]
  },
  {
   "cell_type": "code",
   "execution_count": 38,
   "metadata": {},
   "outputs": [
    {
     "data": {
      "text/html": [
       "<div>\n",
       "<style scoped>\n",
       "    .dataframe tbody tr th:only-of-type {\n",
       "        vertical-align: middle;\n",
       "    }\n",
       "\n",
       "    .dataframe tbody tr th {\n",
       "        vertical-align: top;\n",
       "    }\n",
       "\n",
       "    .dataframe thead th {\n",
       "        text-align: right;\n",
       "    }\n",
       "</style>\n",
       "<table border=\"1\" class=\"dataframe\">\n",
       "  <thead>\n",
       "    <tr style=\"text-align: right;\">\n",
       "      <th></th>\n",
       "      <th></th>\n",
       "      <th>top_1_conf</th>\n",
       "      <th>pcc_sim</th>\n",
       "    </tr>\n",
       "    <tr>\n",
       "      <th>top_1_label</th>\n",
       "      <th></th>\n",
       "      <th></th>\n",
       "      <th></th>\n",
       "    </tr>\n",
       "  </thead>\n",
       "  <tbody>\n",
       "    <tr>\n",
       "      <th rowspan=\"2\" valign=\"top\">0.0</th>\n",
       "      <th>top_1_conf</th>\n",
       "      <td>1.000000</td>\n",
       "      <td>-0.051168</td>\n",
       "    </tr>\n",
       "    <tr>\n",
       "      <th>pcc_sim</th>\n",
       "      <td>-0.051168</td>\n",
       "      <td>1.000000</td>\n",
       "    </tr>\n",
       "    <tr>\n",
       "      <th rowspan=\"2\" valign=\"top\">1.0</th>\n",
       "      <th>top_1_conf</th>\n",
       "      <td>1.000000</td>\n",
       "      <td>-0.451068</td>\n",
       "    </tr>\n",
       "    <tr>\n",
       "      <th>pcc_sim</th>\n",
       "      <td>-0.451068</td>\n",
       "      <td>1.000000</td>\n",
       "    </tr>\n",
       "    <tr>\n",
       "      <th rowspan=\"2\" valign=\"top\">2.0</th>\n",
       "      <th>top_1_conf</th>\n",
       "      <td>1.000000</td>\n",
       "      <td>0.002571</td>\n",
       "    </tr>\n",
       "    <tr>\n",
       "      <th>pcc_sim</th>\n",
       "      <td>0.002571</td>\n",
       "      <td>1.000000</td>\n",
       "    </tr>\n",
       "    <tr>\n",
       "      <th rowspan=\"2\" valign=\"top\">3.0</th>\n",
       "      <th>top_1_conf</th>\n",
       "      <td>1.000000</td>\n",
       "      <td>0.234420</td>\n",
       "    </tr>\n",
       "    <tr>\n",
       "      <th>pcc_sim</th>\n",
       "      <td>0.234420</td>\n",
       "      <td>1.000000</td>\n",
       "    </tr>\n",
       "    <tr>\n",
       "      <th rowspan=\"2\" valign=\"top\">4.0</th>\n",
       "      <th>top_1_conf</th>\n",
       "      <td>1.000000</td>\n",
       "      <td>-0.238794</td>\n",
       "    </tr>\n",
       "    <tr>\n",
       "      <th>pcc_sim</th>\n",
       "      <td>-0.238794</td>\n",
       "      <td>1.000000</td>\n",
       "    </tr>\n",
       "    <tr>\n",
       "      <th rowspan=\"2\" valign=\"top\">5.0</th>\n",
       "      <th>top_1_conf</th>\n",
       "      <td>1.000000</td>\n",
       "      <td>0.039357</td>\n",
       "    </tr>\n",
       "    <tr>\n",
       "      <th>pcc_sim</th>\n",
       "      <td>0.039357</td>\n",
       "      <td>1.000000</td>\n",
       "    </tr>\n",
       "    <tr>\n",
       "      <th rowspan=\"2\" valign=\"top\">6.0</th>\n",
       "      <th>top_1_conf</th>\n",
       "      <td>1.000000</td>\n",
       "      <td>-0.145095</td>\n",
       "    </tr>\n",
       "    <tr>\n",
       "      <th>pcc_sim</th>\n",
       "      <td>-0.145095</td>\n",
       "      <td>1.000000</td>\n",
       "    </tr>\n",
       "    <tr>\n",
       "      <th rowspan=\"2\" valign=\"top\">7.0</th>\n",
       "      <th>top_1_conf</th>\n",
       "      <td>1.000000</td>\n",
       "      <td>-0.332511</td>\n",
       "    </tr>\n",
       "    <tr>\n",
       "      <th>pcc_sim</th>\n",
       "      <td>-0.332511</td>\n",
       "      <td>1.000000</td>\n",
       "    </tr>\n",
       "    <tr>\n",
       "      <th rowspan=\"2\" valign=\"top\">8.0</th>\n",
       "      <th>top_1_conf</th>\n",
       "      <td>1.000000</td>\n",
       "      <td>0.165297</td>\n",
       "    </tr>\n",
       "    <tr>\n",
       "      <th>pcc_sim</th>\n",
       "      <td>0.165297</td>\n",
       "      <td>1.000000</td>\n",
       "    </tr>\n",
       "    <tr>\n",
       "      <th rowspan=\"2\" valign=\"top\">9.0</th>\n",
       "      <th>top_1_conf</th>\n",
       "      <td>1.000000</td>\n",
       "      <td>0.036321</td>\n",
       "    </tr>\n",
       "    <tr>\n",
       "      <th>pcc_sim</th>\n",
       "      <td>0.036321</td>\n",
       "      <td>1.000000</td>\n",
       "    </tr>\n",
       "  </tbody>\n",
       "</table>\n",
       "</div>"
      ],
      "text/plain": [
       "                        top_1_conf   pcc_sim\n",
       "top_1_label                                 \n",
       "0.0         top_1_conf    1.000000 -0.051168\n",
       "            pcc_sim      -0.051168  1.000000\n",
       "1.0         top_1_conf    1.000000 -0.451068\n",
       "            pcc_sim      -0.451068  1.000000\n",
       "2.0         top_1_conf    1.000000  0.002571\n",
       "            pcc_sim       0.002571  1.000000\n",
       "3.0         top_1_conf    1.000000  0.234420\n",
       "            pcc_sim       0.234420  1.000000\n",
       "4.0         top_1_conf    1.000000 -0.238794\n",
       "            pcc_sim      -0.238794  1.000000\n",
       "5.0         top_1_conf    1.000000  0.039357\n",
       "            pcc_sim       0.039357  1.000000\n",
       "6.0         top_1_conf    1.000000 -0.145095\n",
       "            pcc_sim      -0.145095  1.000000\n",
       "7.0         top_1_conf    1.000000 -0.332511\n",
       "            pcc_sim      -0.332511  1.000000\n",
       "8.0         top_1_conf    1.000000  0.165297\n",
       "            pcc_sim       0.165297  1.000000\n",
       "9.0         top_1_conf    1.000000  0.036321\n",
       "            pcc_sim       0.036321  1.000000"
      ]
     },
     "execution_count": 38,
     "metadata": {},
     "output_type": "execute_result"
    }
   ],
   "source": [
    "mnist_adv[[\"top_1_conf\", \"top_1_label\", \"pcc_sim\"]].groupby([\"top_1_label\"]).corr()"
   ]
  },
  {
   "cell_type": "code",
   "execution_count": 39,
   "metadata": {
    "scrolled": false
   },
   "outputs": [
    {
     "data": {
      "text/html": [
       "<div>\n",
       "<style scoped>\n",
       "    .dataframe tbody tr th:only-of-type {\n",
       "        vertical-align: middle;\n",
       "    }\n",
       "\n",
       "    .dataframe tbody tr th {\n",
       "        vertical-align: top;\n",
       "    }\n",
       "\n",
       "    .dataframe thead th {\n",
       "        text-align: right;\n",
       "    }\n",
       "</style>\n",
       "<table border=\"1\" class=\"dataframe\">\n",
       "  <thead>\n",
       "    <tr style=\"text-align: right;\">\n",
       "      <th></th>\n",
       "      <th></th>\n",
       "      <th>top_1_conf</th>\n",
       "      <th>pcc_sim</th>\n",
       "    </tr>\n",
       "    <tr>\n",
       "      <th>top_1_label</th>\n",
       "      <th></th>\n",
       "      <th></th>\n",
       "      <th></th>\n",
       "    </tr>\n",
       "  </thead>\n",
       "  <tbody>\n",
       "    <tr>\n",
       "      <th rowspan=\"2\" valign=\"top\">0.0</th>\n",
       "      <th>top_1_conf</th>\n",
       "      <td>1.000000</td>\n",
       "      <td>-0.199558</td>\n",
       "    </tr>\n",
       "    <tr>\n",
       "      <th>pcc_sim</th>\n",
       "      <td>-0.199558</td>\n",
       "      <td>1.000000</td>\n",
       "    </tr>\n",
       "    <tr>\n",
       "      <th rowspan=\"2\" valign=\"top\">1.0</th>\n",
       "      <th>top_1_conf</th>\n",
       "      <td>1.000000</td>\n",
       "      <td>-0.339917</td>\n",
       "    </tr>\n",
       "    <tr>\n",
       "      <th>pcc_sim</th>\n",
       "      <td>-0.339917</td>\n",
       "      <td>1.000000</td>\n",
       "    </tr>\n",
       "    <tr>\n",
       "      <th rowspan=\"2\" valign=\"top\">2.0</th>\n",
       "      <th>top_1_conf</th>\n",
       "      <td>1.000000</td>\n",
       "      <td>-0.018678</td>\n",
       "    </tr>\n",
       "    <tr>\n",
       "      <th>pcc_sim</th>\n",
       "      <td>-0.018678</td>\n",
       "      <td>1.000000</td>\n",
       "    </tr>\n",
       "    <tr>\n",
       "      <th rowspan=\"2\" valign=\"top\">3.0</th>\n",
       "      <th>top_1_conf</th>\n",
       "      <td>1.000000</td>\n",
       "      <td>-0.145831</td>\n",
       "    </tr>\n",
       "    <tr>\n",
       "      <th>pcc_sim</th>\n",
       "      <td>-0.145831</td>\n",
       "      <td>1.000000</td>\n",
       "    </tr>\n",
       "    <tr>\n",
       "      <th rowspan=\"2\" valign=\"top\">4.0</th>\n",
       "      <th>top_1_conf</th>\n",
       "      <td>1.000000</td>\n",
       "      <td>-0.282708</td>\n",
       "    </tr>\n",
       "    <tr>\n",
       "      <th>pcc_sim</th>\n",
       "      <td>-0.282708</td>\n",
       "      <td>1.000000</td>\n",
       "    </tr>\n",
       "    <tr>\n",
       "      <th rowspan=\"2\" valign=\"top\">5.0</th>\n",
       "      <th>top_1_conf</th>\n",
       "      <td>1.000000</td>\n",
       "      <td>-0.337387</td>\n",
       "    </tr>\n",
       "    <tr>\n",
       "      <th>pcc_sim</th>\n",
       "      <td>-0.337387</td>\n",
       "      <td>1.000000</td>\n",
       "    </tr>\n",
       "    <tr>\n",
       "      <th rowspan=\"2\" valign=\"top\">6.0</th>\n",
       "      <th>top_1_conf</th>\n",
       "      <td>1.000000</td>\n",
       "      <td>0.036427</td>\n",
       "    </tr>\n",
       "    <tr>\n",
       "      <th>pcc_sim</th>\n",
       "      <td>0.036427</td>\n",
       "      <td>1.000000</td>\n",
       "    </tr>\n",
       "    <tr>\n",
       "      <th rowspan=\"2\" valign=\"top\">7.0</th>\n",
       "      <th>top_1_conf</th>\n",
       "      <td>1.000000</td>\n",
       "      <td>-0.232959</td>\n",
       "    </tr>\n",
       "    <tr>\n",
       "      <th>pcc_sim</th>\n",
       "      <td>-0.232959</td>\n",
       "      <td>1.000000</td>\n",
       "    </tr>\n",
       "    <tr>\n",
       "      <th rowspan=\"2\" valign=\"top\">8.0</th>\n",
       "      <th>top_1_conf</th>\n",
       "      <td>1.000000</td>\n",
       "      <td>-0.192094</td>\n",
       "    </tr>\n",
       "    <tr>\n",
       "      <th>pcc_sim</th>\n",
       "      <td>-0.192094</td>\n",
       "      <td>1.000000</td>\n",
       "    </tr>\n",
       "    <tr>\n",
       "      <th rowspan=\"2\" valign=\"top\">9.0</th>\n",
       "      <th>top_1_conf</th>\n",
       "      <td>1.000000</td>\n",
       "      <td>-0.401897</td>\n",
       "    </tr>\n",
       "    <tr>\n",
       "      <th>pcc_sim</th>\n",
       "      <td>-0.401897</td>\n",
       "      <td>1.000000</td>\n",
       "    </tr>\n",
       "  </tbody>\n",
       "</table>\n",
       "</div>"
      ],
      "text/plain": [
       "                        top_1_conf   pcc_sim\n",
       "top_1_label                                 \n",
       "0.0         top_1_conf    1.000000 -0.199558\n",
       "            pcc_sim      -0.199558  1.000000\n",
       "1.0         top_1_conf    1.000000 -0.339917\n",
       "            pcc_sim      -0.339917  1.000000\n",
       "2.0         top_1_conf    1.000000 -0.018678\n",
       "            pcc_sim      -0.018678  1.000000\n",
       "3.0         top_1_conf    1.000000 -0.145831\n",
       "            pcc_sim      -0.145831  1.000000\n",
       "4.0         top_1_conf    1.000000 -0.282708\n",
       "            pcc_sim      -0.282708  1.000000\n",
       "5.0         top_1_conf    1.000000 -0.337387\n",
       "            pcc_sim      -0.337387  1.000000\n",
       "6.0         top_1_conf    1.000000  0.036427\n",
       "            pcc_sim       0.036427  1.000000\n",
       "7.0         top_1_conf    1.000000 -0.232959\n",
       "            pcc_sim      -0.232959  1.000000\n",
       "8.0         top_1_conf    1.000000 -0.192094\n",
       "            pcc_sim      -0.192094  1.000000\n",
       "9.0         top_1_conf    1.000000 -0.401897\n",
       "            pcc_sim      -0.401897  1.000000"
      ]
     },
     "execution_count": 39,
     "metadata": {},
     "output_type": "execute_result"
    }
   ],
   "source": [
    "cifar10_adv[[\"top_1_conf\", \"top_1_label\", \"pcc_sim\"]].groupby([\"top_1_label\"]).corr()"
   ]
  },
  {
   "cell_type": "code",
   "execution_count": 40,
   "metadata": {},
   "outputs": [],
   "source": [
    "cifar10_adv[\"top_diff\"] = cifar10_adv[\"top_1_conf\"] - cifar10_adv[\"top_2_conf\"]"
   ]
  },
  {
   "cell_type": "code",
   "execution_count": 41,
   "metadata": {},
   "outputs": [
    {
     "data": {
      "text/html": [
       "<div>\n",
       "<style scoped>\n",
       "    .dataframe tbody tr th:only-of-type {\n",
       "        vertical-align: middle;\n",
       "    }\n",
       "\n",
       "    .dataframe tbody tr th {\n",
       "        vertical-align: top;\n",
       "    }\n",
       "\n",
       "    .dataframe thead th {\n",
       "        text-align: right;\n",
       "    }\n",
       "</style>\n",
       "<table border=\"1\" class=\"dataframe\">\n",
       "  <thead>\n",
       "    <tr style=\"text-align: right;\">\n",
       "      <th></th>\n",
       "      <th></th>\n",
       "      <th>top_diff</th>\n",
       "      <th>pcc_sim</th>\n",
       "    </tr>\n",
       "    <tr>\n",
       "      <th>top_1_label</th>\n",
       "      <th></th>\n",
       "      <th></th>\n",
       "      <th></th>\n",
       "    </tr>\n",
       "  </thead>\n",
       "  <tbody>\n",
       "    <tr>\n",
       "      <th rowspan=\"2\" valign=\"top\">0.0</th>\n",
       "      <th>top_diff</th>\n",
       "      <td>1.000000</td>\n",
       "      <td>-0.223772</td>\n",
       "    </tr>\n",
       "    <tr>\n",
       "      <th>pcc_sim</th>\n",
       "      <td>-0.223772</td>\n",
       "      <td>1.000000</td>\n",
       "    </tr>\n",
       "    <tr>\n",
       "      <th rowspan=\"2\" valign=\"top\">1.0</th>\n",
       "      <th>top_diff</th>\n",
       "      <td>1.000000</td>\n",
       "      <td>-0.284588</td>\n",
       "    </tr>\n",
       "    <tr>\n",
       "      <th>pcc_sim</th>\n",
       "      <td>-0.284588</td>\n",
       "      <td>1.000000</td>\n",
       "    </tr>\n",
       "    <tr>\n",
       "      <th rowspan=\"2\" valign=\"top\">2.0</th>\n",
       "      <th>top_diff</th>\n",
       "      <td>1.000000</td>\n",
       "      <td>-0.022319</td>\n",
       "    </tr>\n",
       "    <tr>\n",
       "      <th>pcc_sim</th>\n",
       "      <td>-0.022319</td>\n",
       "      <td>1.000000</td>\n",
       "    </tr>\n",
       "    <tr>\n",
       "      <th rowspan=\"2\" valign=\"top\">3.0</th>\n",
       "      <th>top_diff</th>\n",
       "      <td>1.000000</td>\n",
       "      <td>-0.129757</td>\n",
       "    </tr>\n",
       "    <tr>\n",
       "      <th>pcc_sim</th>\n",
       "      <td>-0.129757</td>\n",
       "      <td>1.000000</td>\n",
       "    </tr>\n",
       "    <tr>\n",
       "      <th rowspan=\"2\" valign=\"top\">4.0</th>\n",
       "      <th>top_diff</th>\n",
       "      <td>1.000000</td>\n",
       "      <td>-0.273990</td>\n",
       "    </tr>\n",
       "    <tr>\n",
       "      <th>pcc_sim</th>\n",
       "      <td>-0.273990</td>\n",
       "      <td>1.000000</td>\n",
       "    </tr>\n",
       "    <tr>\n",
       "      <th rowspan=\"2\" valign=\"top\">5.0</th>\n",
       "      <th>top_diff</th>\n",
       "      <td>1.000000</td>\n",
       "      <td>-0.279884</td>\n",
       "    </tr>\n",
       "    <tr>\n",
       "      <th>pcc_sim</th>\n",
       "      <td>-0.279884</td>\n",
       "      <td>1.000000</td>\n",
       "    </tr>\n",
       "    <tr>\n",
       "      <th rowspan=\"2\" valign=\"top\">6.0</th>\n",
       "      <th>top_diff</th>\n",
       "      <td>1.000000</td>\n",
       "      <td>0.029320</td>\n",
       "    </tr>\n",
       "    <tr>\n",
       "      <th>pcc_sim</th>\n",
       "      <td>0.029320</td>\n",
       "      <td>1.000000</td>\n",
       "    </tr>\n",
       "    <tr>\n",
       "      <th rowspan=\"2\" valign=\"top\">7.0</th>\n",
       "      <th>top_diff</th>\n",
       "      <td>1.000000</td>\n",
       "      <td>-0.268951</td>\n",
       "    </tr>\n",
       "    <tr>\n",
       "      <th>pcc_sim</th>\n",
       "      <td>-0.268951</td>\n",
       "      <td>1.000000</td>\n",
       "    </tr>\n",
       "    <tr>\n",
       "      <th rowspan=\"2\" valign=\"top\">8.0</th>\n",
       "      <th>top_diff</th>\n",
       "      <td>1.000000</td>\n",
       "      <td>-0.201360</td>\n",
       "    </tr>\n",
       "    <tr>\n",
       "      <th>pcc_sim</th>\n",
       "      <td>-0.201360</td>\n",
       "      <td>1.000000</td>\n",
       "    </tr>\n",
       "    <tr>\n",
       "      <th rowspan=\"2\" valign=\"top\">9.0</th>\n",
       "      <th>top_diff</th>\n",
       "      <td>1.000000</td>\n",
       "      <td>-0.371642</td>\n",
       "    </tr>\n",
       "    <tr>\n",
       "      <th>pcc_sim</th>\n",
       "      <td>-0.371642</td>\n",
       "      <td>1.000000</td>\n",
       "    </tr>\n",
       "  </tbody>\n",
       "</table>\n",
       "</div>"
      ],
      "text/plain": [
       "                      top_diff   pcc_sim\n",
       "top_1_label                             \n",
       "0.0         top_diff  1.000000 -0.223772\n",
       "            pcc_sim  -0.223772  1.000000\n",
       "1.0         top_diff  1.000000 -0.284588\n",
       "            pcc_sim  -0.284588  1.000000\n",
       "2.0         top_diff  1.000000 -0.022319\n",
       "            pcc_sim  -0.022319  1.000000\n",
       "3.0         top_diff  1.000000 -0.129757\n",
       "            pcc_sim  -0.129757  1.000000\n",
       "4.0         top_diff  1.000000 -0.273990\n",
       "            pcc_sim  -0.273990  1.000000\n",
       "5.0         top_diff  1.000000 -0.279884\n",
       "            pcc_sim  -0.279884  1.000000\n",
       "6.0         top_diff  1.000000  0.029320\n",
       "            pcc_sim   0.029320  1.000000\n",
       "7.0         top_diff  1.000000 -0.268951\n",
       "            pcc_sim  -0.268951  1.000000\n",
       "8.0         top_diff  1.000000 -0.201360\n",
       "            pcc_sim  -0.201360  1.000000\n",
       "9.0         top_diff  1.000000 -0.371642\n",
       "            pcc_sim  -0.371642  1.000000"
      ]
     },
     "execution_count": 41,
     "metadata": {},
     "output_type": "execute_result"
    }
   ],
   "source": [
    "cifar10_adv[[\"top_diff\", \"top_1_label\", \"pcc_sim\"]].groupby([\"top_1_label\"]).corr()"
   ]
  },
  {
   "cell_type": "code",
   "execution_count": null,
   "metadata": {},
   "outputs": [],
   "source": []
  },
  {
   "cell_type": "code",
   "execution_count": 42,
   "metadata": {
    "scrolled": false
   },
   "outputs": [
    {
     "data": {
      "text/plain": [
       "<AxesSubplot:>"
      ]
     },
     "execution_count": 42,
     "metadata": {},
     "output_type": "execute_result"
    },
    {
     "data": {
      "image/png": "[encoded data removed]",
      "text/plain": [
       "<Figure size 432x288 with 1 Axes>"
      ]
     },
     "metadata": {
      "needs_background": "light"
     },
     "output_type": "display_data"
    }
   ],
   "source": [
    "top_k_mnist_train_orig.sort_values(by=\"top_2_conf\", ascending=True)[\"top_2_conf\"].hist()"
   ]
  },
  {
   "cell_type": "code",
   "execution_count": 43,
   "metadata": {
    "scrolled": false
   },
   "outputs": [
    {
     "data": {
      "text/html": [
       "<div>\n",
       "<style scoped>\n",
       "    .dataframe tbody tr th:only-of-type {\n",
       "        vertical-align: middle;\n",
       "    }\n",
       "\n",
       "    .dataframe tbody tr th {\n",
       "        vertical-align: top;\n",
       "    }\n",
       "\n",
       "    .dataframe thead th {\n",
       "        text-align: right;\n",
       "    }\n",
       "</style>\n",
       "<table border=\"1\" class=\"dataframe\">\n",
       "  <thead>\n",
       "    <tr style=\"text-align: right;\">\n",
       "      <th></th>\n",
       "      <th>top_1_label</th>\n",
       "      <th>top_1_conf</th>\n",
       "      <th>top_2_label</th>\n",
       "      <th>top_2_conf</th>\n",
       "    </tr>\n",
       "  </thead>\n",
       "  <tbody>\n",
       "    <tr>\n",
       "      <th>35052</th>\n",
       "      <td>5.0</td>\n",
       "      <td>0.173837</td>\n",
       "      <td>7.0</td>\n",
       "      <td>0.152706</td>\n",
       "    </tr>\n",
       "    <tr>\n",
       "      <th>23234</th>\n",
       "      <td>1.0</td>\n",
       "      <td>0.176650</td>\n",
       "      <td>7.0</td>\n",
       "      <td>0.132356</td>\n",
       "    </tr>\n",
       "    <tr>\n",
       "      <th>6715</th>\n",
       "      <td>7.0</td>\n",
       "      <td>0.184242</td>\n",
       "      <td>3.0</td>\n",
       "      <td>0.165901</td>\n",
       "    </tr>\n",
       "    <tr>\n",
       "      <th>1667</th>\n",
       "      <td>1.0</td>\n",
       "      <td>0.198748</td>\n",
       "      <td>6.0</td>\n",
       "      <td>0.182419</td>\n",
       "    </tr>\n",
       "    <tr>\n",
       "      <th>37128</th>\n",
       "      <td>5.0</td>\n",
       "      <td>0.203248</td>\n",
       "      <td>7.0</td>\n",
       "      <td>0.197079</td>\n",
       "    </tr>\n",
       "    <tr>\n",
       "      <th>...</th>\n",
       "      <td>...</td>\n",
       "      <td>...</td>\n",
       "      <td>...</td>\n",
       "      <td>...</td>\n",
       "    </tr>\n",
       "    <tr>\n",
       "      <th>38532</th>\n",
       "      <td>5.0</td>\n",
       "      <td>0.965993</td>\n",
       "      <td>8.0</td>\n",
       "      <td>0.033805</td>\n",
       "    </tr>\n",
       "    <tr>\n",
       "      <th>39861</th>\n",
       "      <td>8.0</td>\n",
       "      <td>0.966964</td>\n",
       "      <td>2.0</td>\n",
       "      <td>0.032308</td>\n",
       "    </tr>\n",
       "    <tr>\n",
       "      <th>24179</th>\n",
       "      <td>8.0</td>\n",
       "      <td>0.975055</td>\n",
       "      <td>2.0</td>\n",
       "      <td>0.024874</td>\n",
       "    </tr>\n",
       "    <tr>\n",
       "      <th>37623</th>\n",
       "      <td>8.0</td>\n",
       "      <td>0.976496</td>\n",
       "      <td>2.0</td>\n",
       "      <td>0.022422</td>\n",
       "    </tr>\n",
       "    <tr>\n",
       "      <th>50781</th>\n",
       "      <td>8.0</td>\n",
       "      <td>0.983788</td>\n",
       "      <td>2.0</td>\n",
       "      <td>0.015946</td>\n",
       "    </tr>\n",
       "  </tbody>\n",
       "</table>\n",
       "<p>52295 rows × 4 columns</p>\n",
       "</div>"
      ],
      "text/plain": [
       "       top_1_label  top_1_conf  top_2_label  top_2_conf\n",
       "35052          5.0    0.173837          7.0    0.152706\n",
       "23234          1.0    0.176650          7.0    0.132356\n",
       "6715           7.0    0.184242          3.0    0.165901\n",
       "1667           1.0    0.198748          6.0    0.182419\n",
       "37128          5.0    0.203248          7.0    0.197079\n",
       "...            ...         ...          ...         ...\n",
       "38532          5.0    0.965993          8.0    0.033805\n",
       "39861          8.0    0.966964          2.0    0.032308\n",
       "24179          8.0    0.975055          2.0    0.024874\n",
       "37623          8.0    0.976496          2.0    0.022422\n",
       "50781          8.0    0.983788          2.0    0.015946\n",
       "\n",
       "[52295 rows x 4 columns]"
      ]
     },
     "execution_count": 43,
     "metadata": {},
     "output_type": "execute_result"
    }
   ],
   "source": [
    "top_k_mnist_train_adv.sort_values(by=\"top_1_conf\", ascending=True)"
   ]
  },
  {
   "cell_type": "code",
   "execution_count": 44,
   "metadata": {
    "scrolled": true
   },
   "outputs": [
    {
     "data": {
      "text/html": [
       "<div>\n",
       "<style scoped>\n",
       "    .dataframe tbody tr th:only-of-type {\n",
       "        vertical-align: middle;\n",
       "    }\n",
       "\n",
       "    .dataframe tbody tr th {\n",
       "        vertical-align: top;\n",
       "    }\n",
       "\n",
       "    .dataframe thead th {\n",
       "        text-align: right;\n",
       "    }\n",
       "</style>\n",
       "<table border=\"1\" class=\"dataframe\">\n",
       "  <thead>\n",
       "    <tr style=\"text-align: right;\">\n",
       "      <th></th>\n",
       "      <th>top_1_label</th>\n",
       "      <th>top_1_conf</th>\n",
       "      <th>top_2_label</th>\n",
       "      <th>top_2_conf</th>\n",
       "    </tr>\n",
       "  </thead>\n",
       "  <tbody>\n",
       "    <tr>\n",
       "      <th>0</th>\n",
       "      <td>3.0</td>\n",
       "      <td>0.884584</td>\n",
       "      <td>5.0</td>\n",
       "      <td>0.038046</td>\n",
       "    </tr>\n",
       "    <tr>\n",
       "      <th>1</th>\n",
       "      <td>3.0</td>\n",
       "      <td>0.763706</td>\n",
       "      <td>0.0</td>\n",
       "      <td>0.065399</td>\n",
       "    </tr>\n",
       "    <tr>\n",
       "      <th>2</th>\n",
       "      <td>0.0</td>\n",
       "      <td>0.630749</td>\n",
       "      <td>3.0</td>\n",
       "      <td>0.204524</td>\n",
       "    </tr>\n",
       "    <tr>\n",
       "      <th>3</th>\n",
       "      <td>3.0</td>\n",
       "      <td>0.781105</td>\n",
       "      <td>5.0</td>\n",
       "      <td>0.133733</td>\n",
       "    </tr>\n",
       "    <tr>\n",
       "      <th>4</th>\n",
       "      <td>3.0</td>\n",
       "      <td>0.599040</td>\n",
       "      <td>0.0</td>\n",
       "      <td>0.090341</td>\n",
       "    </tr>\n",
       "  </tbody>\n",
       "</table>\n",
       "</div>"
      ],
      "text/plain": [
       "   top_1_label  top_1_conf  top_2_label  top_2_conf\n",
       "0          3.0    0.884584          5.0    0.038046\n",
       "1          3.0    0.763706          0.0    0.065399\n",
       "2          0.0    0.630749          3.0    0.204524\n",
       "3          3.0    0.781105          5.0    0.133733\n",
       "4          3.0    0.599040          0.0    0.090341"
      ]
     },
     "execution_count": 44,
     "metadata": {},
     "output_type": "execute_result"
    }
   ],
   "source": [
    "top_k_cifar10_train_orig.head()"
   ]
  },
  {
   "cell_type": "code",
   "execution_count": 45,
   "metadata": {
    "scrolled": true
   },
   "outputs": [
    {
     "data": {
      "text/html": [
       "<div>\n",
       "<style scoped>\n",
       "    .dataframe tbody tr th:only-of-type {\n",
       "        vertical-align: middle;\n",
       "    }\n",
       "\n",
       "    .dataframe tbody tr th {\n",
       "        vertical-align: top;\n",
       "    }\n",
       "\n",
       "    .dataframe thead th {\n",
       "        text-align: right;\n",
       "    }\n",
       "</style>\n",
       "<table border=\"1\" class=\"dataframe\">\n",
       "  <thead>\n",
       "    <tr style=\"text-align: right;\">\n",
       "      <th></th>\n",
       "      <th>top_1_label</th>\n",
       "      <th>top_1_conf</th>\n",
       "      <th>top_2_label</th>\n",
       "      <th>top_2_conf</th>\n",
       "    </tr>\n",
       "  </thead>\n",
       "  <tbody>\n",
       "    <tr>\n",
       "      <th>0</th>\n",
       "      <td>3.0</td>\n",
       "      <td>0.884584</td>\n",
       "      <td>5.0</td>\n",
       "      <td>0.038046</td>\n",
       "    </tr>\n",
       "    <tr>\n",
       "      <th>1</th>\n",
       "      <td>3.0</td>\n",
       "      <td>0.763706</td>\n",
       "      <td>0.0</td>\n",
       "      <td>0.065399</td>\n",
       "    </tr>\n",
       "    <tr>\n",
       "      <th>2</th>\n",
       "      <td>0.0</td>\n",
       "      <td>0.630749</td>\n",
       "      <td>3.0</td>\n",
       "      <td>0.204524</td>\n",
       "    </tr>\n",
       "    <tr>\n",
       "      <th>3</th>\n",
       "      <td>3.0</td>\n",
       "      <td>0.781105</td>\n",
       "      <td>5.0</td>\n",
       "      <td>0.133733</td>\n",
       "    </tr>\n",
       "    <tr>\n",
       "      <th>4</th>\n",
       "      <td>3.0</td>\n",
       "      <td>0.599040</td>\n",
       "      <td>0.0</td>\n",
       "      <td>0.090341</td>\n",
       "    </tr>\n",
       "  </tbody>\n",
       "</table>\n",
       "</div>"
      ],
      "text/plain": [
       "   top_1_label  top_1_conf  top_2_label  top_2_conf\n",
       "0          3.0    0.884584          5.0    0.038046\n",
       "1          3.0    0.763706          0.0    0.065399\n",
       "2          0.0    0.630749          3.0    0.204524\n",
       "3          3.0    0.781105          5.0    0.133733\n",
       "4          3.0    0.599040          0.0    0.090341"
      ]
     },
     "execution_count": 45,
     "metadata": {},
     "output_type": "execute_result"
    }
   ],
   "source": [
    "top_k_cifar10_train_orig.head()"
   ]
  },
  {
   "cell_type": "code",
   "execution_count": 46,
   "metadata": {},
   "outputs": [
    {
     "data": {
      "text/html": [
       "<div>\n",
       "<style scoped>\n",
       "    .dataframe tbody tr th:only-of-type {\n",
       "        vertical-align: middle;\n",
       "    }\n",
       "\n",
       "    .dataframe tbody tr th {\n",
       "        vertical-align: top;\n",
       "    }\n",
       "\n",
       "    .dataframe thead th {\n",
       "        text-align: right;\n",
       "    }\n",
       "</style>\n",
       "<table border=\"1\" class=\"dataframe\">\n",
       "  <thead>\n",
       "    <tr style=\"text-align: right;\">\n",
       "      <th></th>\n",
       "      <th>top_1_label</th>\n",
       "      <th>top_1_conf</th>\n",
       "      <th>top_2_label</th>\n",
       "      <th>top_2_conf</th>\n",
       "    </tr>\n",
       "  </thead>\n",
       "  <tbody>\n",
       "    <tr>\n",
       "      <th>0</th>\n",
       "      <td>3.0</td>\n",
       "      <td>0.809320</td>\n",
       "      <td>4.0</td>\n",
       "      <td>0.068449</td>\n",
       "    </tr>\n",
       "    <tr>\n",
       "      <th>1</th>\n",
       "      <td>3.0</td>\n",
       "      <td>0.873839</td>\n",
       "      <td>6.0</td>\n",
       "      <td>0.034610</td>\n",
       "    </tr>\n",
       "    <tr>\n",
       "      <th>2</th>\n",
       "      <td>0.0</td>\n",
       "      <td>0.568806</td>\n",
       "      <td>3.0</td>\n",
       "      <td>0.252050</td>\n",
       "    </tr>\n",
       "    <tr>\n",
       "      <th>3</th>\n",
       "      <td>3.0</td>\n",
       "      <td>0.743912</td>\n",
       "      <td>5.0</td>\n",
       "      <td>0.161988</td>\n",
       "    </tr>\n",
       "    <tr>\n",
       "      <th>4</th>\n",
       "      <td>3.0</td>\n",
       "      <td>0.598399</td>\n",
       "      <td>5.0</td>\n",
       "      <td>0.090844</td>\n",
       "    </tr>\n",
       "  </tbody>\n",
       "</table>\n",
       "</div>"
      ],
      "text/plain": [
       "   top_1_label  top_1_conf  top_2_label  top_2_conf\n",
       "0          3.0    0.809320          4.0    0.068449\n",
       "1          3.0    0.873839          6.0    0.034610\n",
       "2          0.0    0.568806          3.0    0.252050\n",
       "3          3.0    0.743912          5.0    0.161988\n",
       "4          3.0    0.598399          5.0    0.090844"
      ]
     },
     "execution_count": 46,
     "metadata": {},
     "output_type": "execute_result"
    }
   ],
   "source": [
    "top_k_cifar10_train_adv.head()"
   ]
  },
  {
   "cell_type": "code",
   "execution_count": 47,
   "metadata": {},
   "outputs": [],
   "source": [
    "d = pd.DataFrame(mnist_train_confidences_orig.numpy())"
   ]
  },
  {
   "cell_type": "code",
   "execution_count": 48,
   "metadata": {},
   "outputs": [],
   "source": [
    "val, idcs = torch.topk(mnist_train_confidences_orig, k=2, dim=1)"
   ]
  },
  {
   "cell_type": "code",
   "execution_count": 49,
   "metadata": {},
   "outputs": [
    {
     "data": {
      "text/plain": [
       "tensor([[7, 9],\n",
       "        [5, 3],\n",
       "        [9, 8],\n",
       "        ...,\n",
       "        [4, 9],\n",
       "        [9, 4],\n",
       "        [9, 4]])"
      ]
     },
     "execution_count": 49,
     "metadata": {},
     "output_type": "execute_result"
    }
   ],
   "source": [
    "idcs"
   ]
  },
  {
   "cell_type": "code",
   "execution_count": 50,
   "metadata": {},
   "outputs": [
    {
     "data": {
      "text/plain": [
       "tensor([7, 5, 9,  ..., 4, 9, 9])"
      ]
     },
     "execution_count": 50,
     "metadata": {},
     "output_type": "execute_result"
    }
   ],
   "source": [
    "idcs[:,0]"
   ]
  },
  {
   "cell_type": "code",
   "execution_count": 51,
   "metadata": {},
   "outputs": [],
   "source": [
    "df = pd.DataFrame([idcs[:,0].numpy(), val[:,0].numpy(),idcs[:,1].numpy(), val[:,1].numpy()], index=[\"top_1_idx\", \"top_1_conf\", \"top_2_idx\", \"top_2_conf\"]).T"
   ]
  },
  {
   "cell_type": "code",
   "execution_count": 52,
   "metadata": {},
   "outputs": [
    {
     "data": {
      "text/html": [
       "<div>\n",
       "<style scoped>\n",
       "    .dataframe tbody tr th:only-of-type {\n",
       "        vertical-align: middle;\n",
       "    }\n",
       "\n",
       "    .dataframe tbody tr th {\n",
       "        vertical-align: top;\n",
       "    }\n",
       "\n",
       "    .dataframe thead th {\n",
       "        text-align: right;\n",
       "    }\n",
       "</style>\n",
       "<table border=\"1\" class=\"dataframe\">\n",
       "  <thead>\n",
       "    <tr style=\"text-align: right;\">\n",
       "      <th></th>\n",
       "      <th>top_1_idx</th>\n",
       "      <th>top_1_conf</th>\n",
       "      <th>top_2_idx</th>\n",
       "      <th>top_2_conf</th>\n",
       "    </tr>\n",
       "  </thead>\n",
       "  <tbody>\n",
       "    <tr>\n",
       "      <th>0</th>\n",
       "      <td>7.0</td>\n",
       "      <td>1.000000</td>\n",
       "      <td>9.0</td>\n",
       "      <td>7.216924e-08</td>\n",
       "    </tr>\n",
       "    <tr>\n",
       "      <th>1</th>\n",
       "      <td>5.0</td>\n",
       "      <td>0.984226</td>\n",
       "      <td>3.0</td>\n",
       "      <td>1.147289e-02</td>\n",
       "    </tr>\n",
       "    <tr>\n",
       "      <th>2</th>\n",
       "      <td>9.0</td>\n",
       "      <td>0.999952</td>\n",
       "      <td>8.0</td>\n",
       "      <td>4.078618e-05</td>\n",
       "    </tr>\n",
       "    <tr>\n",
       "      <th>3</th>\n",
       "      <td>7.0</td>\n",
       "      <td>0.999750</td>\n",
       "      <td>2.0</td>\n",
       "      <td>1.813207e-04</td>\n",
       "    </tr>\n",
       "    <tr>\n",
       "      <th>4</th>\n",
       "      <td>4.0</td>\n",
       "      <td>1.000000</td>\n",
       "      <td>9.0</td>\n",
       "      <td>4.286920e-07</td>\n",
       "    </tr>\n",
       "  </tbody>\n",
       "</table>\n",
       "</div>"
      ],
      "text/plain": [
       "   top_1_idx  top_1_conf  top_2_idx    top_2_conf\n",
       "0        7.0    1.000000        9.0  7.216924e-08\n",
       "1        5.0    0.984226        3.0  1.147289e-02\n",
       "2        9.0    0.999952        8.0  4.078618e-05\n",
       "3        7.0    0.999750        2.0  1.813207e-04\n",
       "4        4.0    1.000000        9.0  4.286920e-07"
      ]
     },
     "execution_count": 52,
     "metadata": {},
     "output_type": "execute_result"
    }
   ],
   "source": [
    "df.head()"
   ]
  },
  {
   "cell_type": "code",
   "execution_count": 53,
   "metadata": {},
   "outputs": [],
   "source": [
    "largest_indcs = d.T.nlargest(n=2, columns=range(0, d.shape[0])).index"
   ]
  },
  {
   "cell_type": "code",
   "execution_count": 54,
   "metadata": {},
   "outputs": [
    {
     "data": {
      "text/plain": [
       "Int64Index([7, 9], dtype='int64')"
      ]
     },
     "execution_count": 54,
     "metadata": {},
     "output_type": "execute_result"
    }
   ],
   "source": [
    "largest_indcs"
   ]
  },
  {
   "cell_type": "code",
   "execution_count": 55,
   "metadata": {},
   "outputs": [
    {
     "data": {
      "text/html": [
       "<div>\n",
       "<style scoped>\n",
       "    .dataframe tbody tr th:only-of-type {\n",
       "        vertical-align: middle;\n",
       "    }\n",
       "\n",
       "    .dataframe tbody tr th {\n",
       "        vertical-align: top;\n",
       "    }\n",
       "\n",
       "    .dataframe thead th {\n",
       "        text-align: right;\n",
       "    }\n",
       "</style>\n",
       "<table border=\"1\" class=\"dataframe\">\n",
       "  <thead>\n",
       "    <tr style=\"text-align: right;\">\n",
       "      <th></th>\n",
       "      <th>0</th>\n",
       "      <th>1</th>\n",
       "      <th>2</th>\n",
       "      <th>3</th>\n",
       "      <th>4</th>\n",
       "      <th>5</th>\n",
       "      <th>6</th>\n",
       "      <th>7</th>\n",
       "      <th>8</th>\n",
       "      <th>9</th>\n",
       "      <th>...</th>\n",
       "      <th>52285</th>\n",
       "      <th>52286</th>\n",
       "      <th>52287</th>\n",
       "      <th>52288</th>\n",
       "      <th>52289</th>\n",
       "      <th>52290</th>\n",
       "      <th>52291</th>\n",
       "      <th>52292</th>\n",
       "      <th>52293</th>\n",
       "      <th>52294</th>\n",
       "    </tr>\n",
       "  </thead>\n",
       "  <tbody>\n",
       "    <tr>\n",
       "      <th>7</th>\n",
       "      <td>9.999999e-01</td>\n",
       "      <td>0.000002</td>\n",
       "      <td>0.000001</td>\n",
       "      <td>0.999750</td>\n",
       "      <td>6.488721e-08</td>\n",
       "      <td>1.000000e+00</td>\n",
       "      <td>8.847245e-17</td>\n",
       "      <td>2.825724e-12</td>\n",
       "      <td>6.712441e-12</td>\n",
       "      <td>2.200307e-15</td>\n",
       "      <td>...</td>\n",
       "      <td>7.581013e-10</td>\n",
       "      <td>1.465759e-08</td>\n",
       "      <td>1.893714e-08</td>\n",
       "      <td>1.018177e-09</td>\n",
       "      <td>3.269034e-14</td>\n",
       "      <td>0.000036</td>\n",
       "      <td>1.460610e-12</td>\n",
       "      <td>0.000003</td>\n",
       "      <td>1.647018e-07</td>\n",
       "      <td>5.196413e-07</td>\n",
       "    </tr>\n",
       "    <tr>\n",
       "      <th>9</th>\n",
       "      <td>7.216924e-08</td>\n",
       "      <td>0.000157</td>\n",
       "      <td>0.999952</td>\n",
       "      <td>0.000011</td>\n",
       "      <td>4.286920e-07</td>\n",
       "      <td>1.866005e-08</td>\n",
       "      <td>3.856242e-08</td>\n",
       "      <td>7.875891e-08</td>\n",
       "      <td>1.239593e-10</td>\n",
       "      <td>1.182660e-09</td>\n",
       "      <td>...</td>\n",
       "      <td>1.000000e+00</td>\n",
       "      <td>1.000000e+00</td>\n",
       "      <td>1.000000e+00</td>\n",
       "      <td>9.999998e-01</td>\n",
       "      <td>3.464417e-11</td>\n",
       "      <td>0.997996</td>\n",
       "      <td>1.519156e-07</td>\n",
       "      <td>0.000020</td>\n",
       "      <td>9.999893e-01</td>\n",
       "      <td>9.999928e-01</td>\n",
       "    </tr>\n",
       "  </tbody>\n",
       "</table>\n",
       "<p>2 rows × 52295 columns</p>\n",
       "</div>"
      ],
      "text/plain": [
       "          0         1         2         3             4             5      \\\n",
       "7  9.999999e-01  0.000002  0.000001  0.999750  6.488721e-08  1.000000e+00   \n",
       "9  7.216924e-08  0.000157  0.999952  0.000011  4.286920e-07  1.866005e-08   \n",
       "\n",
       "          6             7             8             9      ...         52285  \\\n",
       "7  8.847245e-17  2.825724e-12  6.712441e-12  2.200307e-15  ...  7.581013e-10   \n",
       "9  3.856242e-08  7.875891e-08  1.239593e-10  1.182660e-09  ...  1.000000e+00   \n",
       "\n",
       "          52286         52287         52288         52289     52290  \\\n",
       "7  1.465759e-08  1.893714e-08  1.018177e-09  3.269034e-14  0.000036   \n",
       "9  1.000000e+00  1.000000e+00  9.999998e-01  3.464417e-11  0.997996   \n",
       "\n",
       "          52291     52292         52293         52294  \n",
       "7  1.460610e-12  0.000003  1.647018e-07  5.196413e-07  \n",
       "9  1.519156e-07  0.000020  9.999893e-01  9.999928e-01  \n",
       "\n",
       "[2 rows x 52295 columns]"
      ]
     },
     "execution_count": 55,
     "metadata": {},
     "output_type": "execute_result"
    }
   ],
   "source": [
    "d.T.loc[largest_indcs]"
   ]
  },
  {
   "cell_type": "code",
   "execution_count": 56,
   "metadata": {},
   "outputs": [
    {
     "data": {
      "text/plain": [
       "0        7\n",
       "1        5\n",
       "2        9\n",
       "3        7\n",
       "4        4\n",
       "        ..\n",
       "52290    9\n",
       "52291    5\n",
       "52292    4\n",
       "52293    9\n",
       "52294    9\n",
       "Length: 52295, dtype: int64"
      ]
     },
     "execution_count": 56,
     "metadata": {},
     "output_type": "execute_result"
    }
   ],
   "source": [
    "d.idxmax(axis=1)"
   ]
  },
  {
   "cell_type": "code",
   "execution_count": 57,
   "metadata": {
    "scrolled": false
   },
   "outputs": [
    {
     "data": {
      "text/plain": [
       "array([7., 5., 9., ..., 4., 9., 9.], dtype=float32)"
      ]
     },
     "execution_count": 57,
     "metadata": {},
     "output_type": "execute_result"
    }
   ],
   "source": [
    "mnist_train_label_orig.numpy()"
   ]
  },
  {
   "cell_type": "code",
   "execution_count": 58,
   "metadata": {},
   "outputs": [
    {
     "data": {
      "text/plain": [
       "52282"
      ]
     },
     "execution_count": 58,
     "metadata": {},
     "output_type": "execute_result"
    }
   ],
   "source": [
    "np.sum(mnist_train_label_orig.numpy() == mnist_train_confidences_orig.numpy().argmax(axis=1))"
   ]
  },
  {
   "cell_type": "code",
   "execution_count": 59,
   "metadata": {},
   "outputs": [],
   "source": [
    "df_mnist_train = pd.DataFrame(mnist_train_confidences_orig.numpy())"
   ]
  },
  {
   "cell_type": "code",
   "execution_count": 60,
   "metadata": {},
   "outputs": [
    {
     "data": {
      "text/plain": [
       "0        7\n",
       "1        5\n",
       "2        9\n",
       "3        7\n",
       "4        4\n",
       "        ..\n",
       "52290    9\n",
       "52291    5\n",
       "52292    4\n",
       "52293    9\n",
       "52294    9\n",
       "Length: 52295, dtype: int64"
      ]
     },
     "execution_count": 60,
     "metadata": {},
     "output_type": "execute_result"
    }
   ],
   "source": [
    "df_mnist_train.idxmax(axis=1)"
   ]
  },
  {
   "cell_type": "code",
   "execution_count": null,
   "metadata": {},
   "outputs": [],
   "source": []
  },
  {
   "cell_type": "markdown",
   "metadata": {},
   "source": [
    "## Why are the correctly classified counts so low??"
   ]
  },
  {
   "cell_type": "code",
   "execution_count": null,
   "metadata": {},
   "outputs": [],
   "source": [
    "np.sum(mnist_train_confidences_orig.numpy().argmax(axis=1) == mnist_train_labels_orig.numpy())"
   ]
  },
  {
   "cell_type": "code",
   "execution_count": null,
   "metadata": {
    "scrolled": true
   },
   "outputs": [],
   "source": [
    "np.sum(fashion_mnist_train_confidences_orig.numpy().argmax(axis=1) == fashion_mnist_train_labels_orig.numpy())"
   ]
  },
  {
   "cell_type": "code",
   "execution_count": null,
   "metadata": {},
   "outputs": [],
   "source": [
    "np.sum(cifar10_train_confidences_orig.numpy().argmax(axis=1) == cifar10_train_labels_orig.numpy())"
   ]
  },
  {
   "cell_type": "code",
   "execution_count": null,
   "metadata": {},
   "outputs": [],
   "source": [
    "df_mnist_train_conf = pd.DataFrame(mnist_train_confidences_orig.numpy())"
   ]
  },
  {
   "cell_type": "code",
   "execution_count": null,
   "metadata": {},
   "outputs": [],
   "source": [
    "df_mnist_train_conf.head()"
   ]
  },
  {
   "cell_type": "code",
   "execution_count": null,
   "metadata": {},
   "outputs": [],
   "source": [
    "pred_labels = df_mnist_train_conf.idxmax(axis=1).to_numpy()"
   ]
  },
  {
   "cell_type": "code",
   "execution_count": null,
   "metadata": {},
   "outputs": [],
   "source": [
    "df_mnist_train_labels"
   ]
  },
  {
   "cell_type": "code",
   "execution_count": null,
   "metadata": {},
   "outputs": [],
   "source": [
    "pred_labels"
   ]
  },
  {
   "cell_type": "markdown",
   "metadata": {},
   "source": [
    "# Q1: How is the distribution of classes in the data sets?"
   ]
  },
  {
   "cell_type": "markdown",
   "metadata": {},
   "source": [
    "## MNIST"
   ]
  },
  {
   "cell_type": "markdown",
   "metadata": {},
   "source": [
    "### Original"
   ]
  },
  {
   "cell_type": "markdown",
   "metadata": {},
   "source": [
    "## FashionMNIST"
   ]
  },
  {
   "cell_type": "markdown",
   "metadata": {},
   "source": [
    "## Labels mappings:\n",
    "* 0\tT-shirt/top\n",
    "* 1\tTrouser\n",
    "* 2\tPullover\n",
    "* 3\tDress\n",
    "* 4\tCoat\n",
    "* 5\tSandal\n",
    "* 6\tShirt\n",
    "* 7\tSneaker\n",
    "* 8\tBag\n",
    "* 9\tAnkle boot"
   ]
  },
  {
   "cell_type": "markdown",
   "metadata": {},
   "source": [
    "### Original"
   ]
  },
  {
   "cell_type": "markdown",
   "metadata": {},
   "source": [
    "### Adversarial"
   ]
  },
  {
   "cell_type": "markdown",
   "metadata": {},
   "source": [
    "## CIFAR10"
   ]
  },
  {
   "cell_type": "markdown",
   "metadata": {},
   "source": [
    "Label mappings:\n",
    "* 0\tAirplane\n",
    "* 1\tCar\n",
    "* 2\tBird\n",
    "* 3\tCat\n",
    "* 4\tDeer\n",
    "* 5\tDog\n",
    "* 6\tFrog\n",
    "* 7\tHorse\n",
    "* 8\tShip\n",
    "* 9\tTruck"
   ]
  },
  {
   "cell_type": "markdown",
   "metadata": {},
   "source": [
    "### Original"
   ]
  },
  {
   "cell_type": "markdown",
   "metadata": {},
   "source": [
    "### Adversarial"
   ]
  },
  {
   "cell_type": "code",
   "execution_count": null,
   "metadata": {},
   "outputs": [],
   "source": []
  }
 ],
 "metadata": {
  "kernelspec": {
   "display_name": "Python 3",
   "language": "python",
   "name": "python3"
  },
  "language_info": {
   "codemirror_mode": {
    "name": "ipython",
    "version": 3
   },
   "file_extension": ".py",
   "mimetype": "text/x-python",
   "name": "python",
   "nbconvert_exporter": "python",
   "pygments_lexer": "ipython3",
   "version": "3.8.8"
  }
 },
 "nbformat": 4,
 "nbformat_minor": 1
}
