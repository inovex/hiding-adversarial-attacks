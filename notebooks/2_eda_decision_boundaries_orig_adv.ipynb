{
 "cells": [
  {
   "cell_type": "code",
   "execution_count": 2,
   "metadata": {},
   "outputs": [],
   "source": [
    "import matplotlib.pyplot as plt\n",
    "import numpy as np\n",
    "import os\n",
    "import pandas as pd\n",
    "import seaborn as sns\n",
    "import torch"
   ]
  },
  {
   "cell_type": "code",
   "execution_count": 3,
   "metadata": {},
   "outputs": [],
   "source": [
    "data_path = \"/home/steffi/dev/master_thesis/hiding_adversarial_attacks/data/external\"\n",
    "mnist_path = os.path.join(data_path, \"MNIST/processed\")\n",
    "fashion_mnist_path = os.path.join(data_path, \"FashionMNIST/processed\")\n",
    "cifar10_path = os.path.join(data_path, \"CIFAR10\")\n",
    "\n",
    "## DeepFool\n",
    "adversarial_path = \"/home/steffi/dev/master_thesis/hiding_adversarial_attacks/data/preprocessed/adversarial\"\n",
    "mnist_adv_path = os.path.join(adversarial_path, \"data-set=MNIST--attack=DeepFool--eps=0.2--cp-run=HAA-946\")\n",
    "fashion_mnist_adv_path = os.path.join(adversarial_path, \"data-set=FashionMNIST--attack=DeepFool--eps=0.105--cp-run=HAA-952\")\n",
    "cifar10_adv_path = os.path.join(adversarial_path, \"data-set=CIFAR10--attack=DeepFool--eps=0.1--cp-run=HAA-943\")"
   ]
  },
  {
   "cell_type": "markdown",
   "metadata": {},
   "source": [
    "# Load data"
   ]
  },
  {
   "cell_type": "code",
   "execution_count": 9,
   "metadata": {},
   "outputs": [],
   "source": [
    "def load_confidences(data_set_path: str):\n",
    "    train_confidences_orig, train_labels_orig = torch.load(os.path.join(data_set_path, \"confidences_orig.pt\"))\n",
    "    train_confidences_adv, train_labels_adv = torch.load(os.path.join(data_set_path, \"confidences_adv.pt\"))\n",
    "    return train_confidences_orig, train_labels_orig, train_confidences_adv, train_labels_adv"
   ]
  },
  {
   "cell_type": "code",
   "execution_count": 10,
   "metadata": {},
   "outputs": [],
   "source": [
    "# Confidences\n",
    "mnist_train_confidences_orig, mnist_train_labels_orig, mnist_train_confidences_adv, mnist_train_labels_adv = load_confidences(mnist_adv_path)\n",
    "fashion_mnist_train_confidences_orig, fashion_mnist_train_labels_orig, fashion_mnist_train_confidences_adv, fashion_mnist_train_labels_adv = load_confidences(fashion_mnist_adv_path)\n",
    "cifar10_train_confidences_orig, cifar10_train_labels_orig, cifar10_train_confidences_adv, cifar10_train_labels_adv = load_confidences(cifar10_adv_path)"
   ]
  },
  {
   "cell_type": "code",
   "execution_count": 11,
   "metadata": {},
   "outputs": [],
   "source": [
    "df_mnist_train_labels_orig = pd.DataFrame(mnist_train_labels_orig.numpy())\n",
    "df_mnist_train_labels_adv = pd.DataFrame(mnist_train_labels_adv.numpy())\n",
    "\n",
    "df_fashion_mnist_train_labels_orig = pd.DataFrame(fashion_mnist_train_labels_orig.numpy())\n",
    "df_fashion_mnist_train_labels_adv = pd.DataFrame(fashion_mnist_train_labels_adv.numpy())\n",
    "\n",
    "df_cifar10_train_labels_orig = pd.DataFrame(cifar10_train_labels_orig.numpy())\n",
    "df_cifar10_train_labels_adv = pd.DataFrame(cifar10_train_labels_adv.numpy())"
   ]
  },
  {
   "cell_type": "code",
   "execution_count": 12,
   "metadata": {},
   "outputs": [],
   "source": [
    "def get_top_k_df(confidences):\n",
    "    val, idcs = torch.topk(confidences, k=2, dim=1)\n",
    "    df = pd.DataFrame([idcs[:,0].numpy(), val[:,0].numpy(),idcs[:,1].numpy(), val[:,1].numpy()], index=[\"top_1_idx\", \"top_1_conf\", \"top_2_idx\", \"top_2_conf\"]).T\n",
    "    return df"
   ]
  },
  {
   "cell_type": "code",
   "execution_count": 13,
   "metadata": {},
   "outputs": [],
   "source": [
    "top_k_mnist_train_orig = get_top_k_df(mnist_train_confidences_orig)\n",
    "top_k_fashion_mnist_train_orig = get_top_k_df(fashion_mnist_train_confidences_orig)\n",
    "top_k_cifar10_train_orig = get_top_k_df(cifar10_train_confidences_orig)\n",
    "\n",
    "top_k_mnist_train_adv = get_top_k_df(mnist_train_confidences_adv)\n",
    "top_k_fashion_mnist_train_adv = get_top_k_df(fashion_mnist_train_confidences_adv)\n",
    "top_k_cifar10_train_adv = get_top_k_df(cifar10_train_confidences_adv)\n",
    "\n"
   ]
  },
  {
   "cell_type": "code",
   "execution_count": 15,
   "metadata": {
    "scrolled": true
   },
   "outputs": [
    {
     "data": {
      "text/html": [
       "<div>\n",
       "<style scoped>\n",
       "    .dataframe tbody tr th:only-of-type {\n",
       "        vertical-align: middle;\n",
       "    }\n",
       "\n",
       "    .dataframe tbody tr th {\n",
       "        vertical-align: top;\n",
       "    }\n",
       "\n",
       "    .dataframe thead th {\n",
       "        text-align: right;\n",
       "    }\n",
       "</style>\n",
       "<table border=\"1\" class=\"dataframe\">\n",
       "  <thead>\n",
       "    <tr style=\"text-align: right;\">\n",
       "      <th></th>\n",
       "      <th>top_1_idx</th>\n",
       "      <th>top_1_conf</th>\n",
       "      <th>top_2_idx</th>\n",
       "      <th>top_2_conf</th>\n",
       "    </tr>\n",
       "  </thead>\n",
       "  <tbody>\n",
       "    <tr>\n",
       "      <th>46477</th>\n",
       "      <td>4.0</td>\n",
       "      <td>0.376817</td>\n",
       "      <td>1.0</td>\n",
       "      <td>3.555147e-01</td>\n",
       "    </tr>\n",
       "    <tr>\n",
       "      <th>51569</th>\n",
       "      <td>6.0</td>\n",
       "      <td>0.403857</td>\n",
       "      <td>9.0</td>\n",
       "      <td>3.892199e-01</td>\n",
       "    </tr>\n",
       "    <tr>\n",
       "      <th>44733</th>\n",
       "      <td>5.0</td>\n",
       "      <td>0.408511</td>\n",
       "      <td>9.0</td>\n",
       "      <td>3.955659e-01</td>\n",
       "    </tr>\n",
       "    <tr>\n",
       "      <th>11081</th>\n",
       "      <td>0.0</td>\n",
       "      <td>0.426630</td>\n",
       "      <td>5.0</td>\n",
       "      <td>3.684263e-01</td>\n",
       "    </tr>\n",
       "    <tr>\n",
       "      <th>11952</th>\n",
       "      <td>2.0</td>\n",
       "      <td>0.443506</td>\n",
       "      <td>1.0</td>\n",
       "      <td>2.238729e-01</td>\n",
       "    </tr>\n",
       "    <tr>\n",
       "      <th>...</th>\n",
       "      <td>...</td>\n",
       "      <td>...</td>\n",
       "      <td>...</td>\n",
       "      <td>...</td>\n",
       "    </tr>\n",
       "    <tr>\n",
       "      <th>45562</th>\n",
       "      <td>7.0</td>\n",
       "      <td>1.000000</td>\n",
       "      <td>3.0</td>\n",
       "      <td>1.581030e-08</td>\n",
       "    </tr>\n",
       "    <tr>\n",
       "      <th>26070</th>\n",
       "      <td>9.0</td>\n",
       "      <td>1.000000</td>\n",
       "      <td>4.0</td>\n",
       "      <td>5.507641e-08</td>\n",
       "    </tr>\n",
       "    <tr>\n",
       "      <th>26065</th>\n",
       "      <td>7.0</td>\n",
       "      <td>1.000000</td>\n",
       "      <td>9.0</td>\n",
       "      <td>5.127414e-08</td>\n",
       "    </tr>\n",
       "    <tr>\n",
       "      <th>45593</th>\n",
       "      <td>8.0</td>\n",
       "      <td>1.000000</td>\n",
       "      <td>6.0</td>\n",
       "      <td>2.895378e-08</td>\n",
       "    </tr>\n",
       "    <tr>\n",
       "      <th>26147</th>\n",
       "      <td>8.0</td>\n",
       "      <td>1.000000</td>\n",
       "      <td>5.0</td>\n",
       "      <td>2.900429e-09</td>\n",
       "    </tr>\n",
       "  </tbody>\n",
       "</table>\n",
       "<p>52295 rows × 4 columns</p>\n",
       "</div>"
      ],
      "text/plain": [
       "       top_1_idx  top_1_conf  top_2_idx    top_2_conf\n",
       "46477        4.0    0.376817        1.0  3.555147e-01\n",
       "51569        6.0    0.403857        9.0  3.892199e-01\n",
       "44733        5.0    0.408511        9.0  3.955659e-01\n",
       "11081        0.0    0.426630        5.0  3.684263e-01\n",
       "11952        2.0    0.443506        1.0  2.238729e-01\n",
       "...          ...         ...        ...           ...\n",
       "45562        7.0    1.000000        3.0  1.581030e-08\n",
       "26070        9.0    1.000000        4.0  5.507641e-08\n",
       "26065        7.0    1.000000        9.0  5.127414e-08\n",
       "45593        8.0    1.000000        6.0  2.895378e-08\n",
       "26147        8.0    1.000000        5.0  2.900429e-09\n",
       "\n",
       "[52295 rows x 4 columns]"
      ]
     },
     "execution_count": 15,
     "metadata": {},
     "output_type": "execute_result"
    }
   ],
   "source": [
    "top_k_mnist_train_orig.sort_values(by=\"top_1_conf\", ascending=True)"
   ]
  },
  {
   "cell_type": "code",
   "execution_count": 112,
   "metadata": {
    "scrolled": true
   },
   "outputs": [
    {
     "data": {
      "text/html": [
       "<div>\n",
       "<style scoped>\n",
       "    .dataframe tbody tr th:only-of-type {\n",
       "        vertical-align: middle;\n",
       "    }\n",
       "\n",
       "    .dataframe tbody tr th {\n",
       "        vertical-align: top;\n",
       "    }\n",
       "\n",
       "    .dataframe thead th {\n",
       "        text-align: right;\n",
       "    }\n",
       "</style>\n",
       "<table border=\"1\" class=\"dataframe\">\n",
       "  <thead>\n",
       "    <tr style=\"text-align: right;\">\n",
       "      <th></th>\n",
       "      <th>top_1_idx</th>\n",
       "      <th>top_1_conf</th>\n",
       "      <th>top_2_idx</th>\n",
       "      <th>top_2_conf</th>\n",
       "    </tr>\n",
       "  </thead>\n",
       "  <tbody>\n",
       "    <tr>\n",
       "      <th>0</th>\n",
       "      <td>7.0</td>\n",
       "      <td>0.474560</td>\n",
       "      <td>9.0</td>\n",
       "      <td>0.424590</td>\n",
       "    </tr>\n",
       "    <tr>\n",
       "      <th>1</th>\n",
       "      <td>5.0</td>\n",
       "      <td>0.689440</td>\n",
       "      <td>3.0</td>\n",
       "      <td>0.283222</td>\n",
       "    </tr>\n",
       "    <tr>\n",
       "      <th>2</th>\n",
       "      <td>9.0</td>\n",
       "      <td>0.611947</td>\n",
       "      <td>8.0</td>\n",
       "      <td>0.382149</td>\n",
       "    </tr>\n",
       "    <tr>\n",
       "      <th>3</th>\n",
       "      <td>7.0</td>\n",
       "      <td>0.543428</td>\n",
       "      <td>2.0</td>\n",
       "      <td>0.448588</td>\n",
       "    </tr>\n",
       "    <tr>\n",
       "      <th>4</th>\n",
       "      <td>4.0</td>\n",
       "      <td>0.580193</td>\n",
       "      <td>9.0</td>\n",
       "      <td>0.410955</td>\n",
       "    </tr>\n",
       "  </tbody>\n",
       "</table>\n",
       "</div>"
      ],
      "text/plain": [
       "   top_1_idx  top_1_conf  top_2_idx  top_2_conf\n",
       "0        7.0    0.474560        9.0    0.424590\n",
       "1        5.0    0.689440        3.0    0.283222\n",
       "2        9.0    0.611947        8.0    0.382149\n",
       "3        7.0    0.543428        2.0    0.448588\n",
       "4        4.0    0.580193        9.0    0.410955"
      ]
     },
     "execution_count": 112,
     "metadata": {},
     "output_type": "execute_result"
    }
   ],
   "source": [
    "top_k_mnist_train_adv.head()"
   ]
  },
  {
   "cell_type": "code",
   "execution_count": 100,
   "metadata": {
    "scrolled": true
   },
   "outputs": [
    {
     "data": {
      "text/html": [
       "<div>\n",
       "<style scoped>\n",
       "    .dataframe tbody tr th:only-of-type {\n",
       "        vertical-align: middle;\n",
       "    }\n",
       "\n",
       "    .dataframe tbody tr th {\n",
       "        vertical-align: top;\n",
       "    }\n",
       "\n",
       "    .dataframe thead th {\n",
       "        text-align: right;\n",
       "    }\n",
       "</style>\n",
       "<table border=\"1\" class=\"dataframe\">\n",
       "  <thead>\n",
       "    <tr style=\"text-align: right;\">\n",
       "      <th></th>\n",
       "      <th>top_1_idx</th>\n",
       "      <th>top_1_conf</th>\n",
       "      <th>top_2_idx</th>\n",
       "      <th>top_2_conf</th>\n",
       "    </tr>\n",
       "  </thead>\n",
       "  <tbody>\n",
       "    <tr>\n",
       "      <th>0</th>\n",
       "      <td>3.0</td>\n",
       "      <td>0.884584</td>\n",
       "      <td>5.0</td>\n",
       "      <td>0.038046</td>\n",
       "    </tr>\n",
       "    <tr>\n",
       "      <th>1</th>\n",
       "      <td>3.0</td>\n",
       "      <td>0.763706</td>\n",
       "      <td>0.0</td>\n",
       "      <td>0.065399</td>\n",
       "    </tr>\n",
       "    <tr>\n",
       "      <th>2</th>\n",
       "      <td>0.0</td>\n",
       "      <td>0.630749</td>\n",
       "      <td>3.0</td>\n",
       "      <td>0.204524</td>\n",
       "    </tr>\n",
       "    <tr>\n",
       "      <th>3</th>\n",
       "      <td>3.0</td>\n",
       "      <td>0.781105</td>\n",
       "      <td>5.0</td>\n",
       "      <td>0.133733</td>\n",
       "    </tr>\n",
       "    <tr>\n",
       "      <th>4</th>\n",
       "      <td>3.0</td>\n",
       "      <td>0.599040</td>\n",
       "      <td>0.0</td>\n",
       "      <td>0.090341</td>\n",
       "    </tr>\n",
       "  </tbody>\n",
       "</table>\n",
       "</div>"
      ],
      "text/plain": [
       "   top_1_idx  top_1_conf  top_2_idx  top_2_conf\n",
       "0        3.0    0.884584        5.0    0.038046\n",
       "1        3.0    0.763706        0.0    0.065399\n",
       "2        0.0    0.630749        3.0    0.204524\n",
       "3        3.0    0.781105        5.0    0.133733\n",
       "4        3.0    0.599040        0.0    0.090341"
      ]
     },
     "execution_count": 100,
     "metadata": {},
     "output_type": "execute_result"
    }
   ],
   "source": [
    "top_k_cifar10_train_orig.head()"
   ]
  },
  {
   "cell_type": "code",
   "execution_count": 107,
   "metadata": {
    "scrolled": true
   },
   "outputs": [
    {
     "data": {
      "text/html": [
       "<div>\n",
       "<style scoped>\n",
       "    .dataframe tbody tr th:only-of-type {\n",
       "        vertical-align: middle;\n",
       "    }\n",
       "\n",
       "    .dataframe tbody tr th {\n",
       "        vertical-align: top;\n",
       "    }\n",
       "\n",
       "    .dataframe thead th {\n",
       "        text-align: right;\n",
       "    }\n",
       "</style>\n",
       "<table border=\"1\" class=\"dataframe\">\n",
       "  <thead>\n",
       "    <tr style=\"text-align: right;\">\n",
       "      <th></th>\n",
       "      <th>top_1_idx</th>\n",
       "      <th>top_1_conf</th>\n",
       "      <th>top_2_idx</th>\n",
       "      <th>top_2_conf</th>\n",
       "    </tr>\n",
       "  </thead>\n",
       "  <tbody>\n",
       "    <tr>\n",
       "      <th>0</th>\n",
       "      <td>3.0</td>\n",
       "      <td>0.884584</td>\n",
       "      <td>5.0</td>\n",
       "      <td>0.038046</td>\n",
       "    </tr>\n",
       "    <tr>\n",
       "      <th>1</th>\n",
       "      <td>3.0</td>\n",
       "      <td>0.763706</td>\n",
       "      <td>0.0</td>\n",
       "      <td>0.065399</td>\n",
       "    </tr>\n",
       "    <tr>\n",
       "      <th>2</th>\n",
       "      <td>0.0</td>\n",
       "      <td>0.630749</td>\n",
       "      <td>3.0</td>\n",
       "      <td>0.204524</td>\n",
       "    </tr>\n",
       "    <tr>\n",
       "      <th>3</th>\n",
       "      <td>3.0</td>\n",
       "      <td>0.781105</td>\n",
       "      <td>5.0</td>\n",
       "      <td>0.133733</td>\n",
       "    </tr>\n",
       "    <tr>\n",
       "      <th>4</th>\n",
       "      <td>3.0</td>\n",
       "      <td>0.599040</td>\n",
       "      <td>0.0</td>\n",
       "      <td>0.090341</td>\n",
       "    </tr>\n",
       "  </tbody>\n",
       "</table>\n",
       "</div>"
      ],
      "text/plain": [
       "   top_1_idx  top_1_conf  top_2_idx  top_2_conf\n",
       "0        3.0    0.884584        5.0    0.038046\n",
       "1        3.0    0.763706        0.0    0.065399\n",
       "2        0.0    0.630749        3.0    0.204524\n",
       "3        3.0    0.781105        5.0    0.133733\n",
       "4        3.0    0.599040        0.0    0.090341"
      ]
     },
     "execution_count": 107,
     "metadata": {},
     "output_type": "execute_result"
    }
   ],
   "source": [
    "top_k_cifar10_train_orig.head()"
   ]
  },
  {
   "cell_type": "code",
   "execution_count": 108,
   "metadata": {},
   "outputs": [
    {
     "data": {
      "text/html": [
       "<div>\n",
       "<style scoped>\n",
       "    .dataframe tbody tr th:only-of-type {\n",
       "        vertical-align: middle;\n",
       "    }\n",
       "\n",
       "    .dataframe tbody tr th {\n",
       "        vertical-align: top;\n",
       "    }\n",
       "\n",
       "    .dataframe thead th {\n",
       "        text-align: right;\n",
       "    }\n",
       "</style>\n",
       "<table border=\"1\" class=\"dataframe\">\n",
       "  <thead>\n",
       "    <tr style=\"text-align: right;\">\n",
       "      <th></th>\n",
       "      <th>top_1_idx</th>\n",
       "      <th>top_1_conf</th>\n",
       "      <th>top_2_idx</th>\n",
       "      <th>top_2_conf</th>\n",
       "    </tr>\n",
       "  </thead>\n",
       "  <tbody>\n",
       "    <tr>\n",
       "      <th>0</th>\n",
       "      <td>3.0</td>\n",
       "      <td>0.809320</td>\n",
       "      <td>4.0</td>\n",
       "      <td>0.068449</td>\n",
       "    </tr>\n",
       "    <tr>\n",
       "      <th>1</th>\n",
       "      <td>3.0</td>\n",
       "      <td>0.873839</td>\n",
       "      <td>6.0</td>\n",
       "      <td>0.034610</td>\n",
       "    </tr>\n",
       "    <tr>\n",
       "      <th>2</th>\n",
       "      <td>0.0</td>\n",
       "      <td>0.568806</td>\n",
       "      <td>3.0</td>\n",
       "      <td>0.252050</td>\n",
       "    </tr>\n",
       "    <tr>\n",
       "      <th>3</th>\n",
       "      <td>3.0</td>\n",
       "      <td>0.743912</td>\n",
       "      <td>5.0</td>\n",
       "      <td>0.161988</td>\n",
       "    </tr>\n",
       "    <tr>\n",
       "      <th>4</th>\n",
       "      <td>3.0</td>\n",
       "      <td>0.598399</td>\n",
       "      <td>5.0</td>\n",
       "      <td>0.090844</td>\n",
       "    </tr>\n",
       "  </tbody>\n",
       "</table>\n",
       "</div>"
      ],
      "text/plain": [
       "   top_1_idx  top_1_conf  top_2_idx  top_2_conf\n",
       "0        3.0    0.809320        4.0    0.068449\n",
       "1        3.0    0.873839        6.0    0.034610\n",
       "2        0.0    0.568806        3.0    0.252050\n",
       "3        3.0    0.743912        5.0    0.161988\n",
       "4        3.0    0.598399        5.0    0.090844"
      ]
     },
     "execution_count": 108,
     "metadata": {},
     "output_type": "execute_result"
    }
   ],
   "source": [
    "top_k_cifar10_train_adv.head()"
   ]
  },
  {
   "cell_type": "code",
   "execution_count": 54,
   "metadata": {},
   "outputs": [],
   "source": [
    "d = pd.DataFrame(mnist_train_confidences_orig.numpy())"
   ]
  },
  {
   "cell_type": "code",
   "execution_count": 67,
   "metadata": {},
   "outputs": [],
   "source": [
    "val, idcs = torch.topk(mnist_train_confidences_orig, k=2, dim=1)"
   ]
  },
  {
   "cell_type": "code",
   "execution_count": 81,
   "metadata": {},
   "outputs": [
    {
     "data": {
      "text/plain": [
       "tensor([[7, 9],\n",
       "        [5, 3],\n",
       "        [9, 8],\n",
       "        ...,\n",
       "        [4, 9],\n",
       "        [9, 4],\n",
       "        [9, 4]])"
      ]
     },
     "execution_count": 81,
     "metadata": {},
     "output_type": "execute_result"
    }
   ],
   "source": [
    "idcs"
   ]
  },
  {
   "cell_type": "code",
   "execution_count": 80,
   "metadata": {},
   "outputs": [
    {
     "data": {
      "text/plain": [
       "tensor([7, 5, 9,  ..., 4, 9, 9])"
      ]
     },
     "execution_count": 80,
     "metadata": {},
     "output_type": "execute_result"
    }
   ],
   "source": [
    "idcs[:,0]"
   ]
  },
  {
   "cell_type": "code",
   "execution_count": 92,
   "metadata": {},
   "outputs": [],
   "source": [
    "df = pd.DataFrame([idcs[:,0].numpy(), val[:,0].numpy(),idcs[:,1].numpy(), val[:,1].numpy()], index=[\"top_1_idx\", \"top_1_conf\", \"top_2_idx\", \"top_2_conf\"]).T"
   ]
  },
  {
   "cell_type": "code",
   "execution_count": 93,
   "metadata": {},
   "outputs": [
    {
     "data": {
      "text/html": [
       "<div>\n",
       "<style scoped>\n",
       "    .dataframe tbody tr th:only-of-type {\n",
       "        vertical-align: middle;\n",
       "    }\n",
       "\n",
       "    .dataframe tbody tr th {\n",
       "        vertical-align: top;\n",
       "    }\n",
       "\n",
       "    .dataframe thead th {\n",
       "        text-align: right;\n",
       "    }\n",
       "</style>\n",
       "<table border=\"1\" class=\"dataframe\">\n",
       "  <thead>\n",
       "    <tr style=\"text-align: right;\">\n",
       "      <th></th>\n",
       "      <th>top_1_idx</th>\n",
       "      <th>top_1_conf</th>\n",
       "      <th>top_2_idx</th>\n",
       "      <th>top_2_conf</th>\n",
       "    </tr>\n",
       "  </thead>\n",
       "  <tbody>\n",
       "    <tr>\n",
       "      <th>0</th>\n",
       "      <td>7.0</td>\n",
       "      <td>1.000000</td>\n",
       "      <td>9.0</td>\n",
       "      <td>7.216924e-08</td>\n",
       "    </tr>\n",
       "    <tr>\n",
       "      <th>1</th>\n",
       "      <td>5.0</td>\n",
       "      <td>0.984226</td>\n",
       "      <td>3.0</td>\n",
       "      <td>1.147289e-02</td>\n",
       "    </tr>\n",
       "    <tr>\n",
       "      <th>2</th>\n",
       "      <td>9.0</td>\n",
       "      <td>0.999952</td>\n",
       "      <td>8.0</td>\n",
       "      <td>4.078618e-05</td>\n",
       "    </tr>\n",
       "    <tr>\n",
       "      <th>3</th>\n",
       "      <td>7.0</td>\n",
       "      <td>0.999750</td>\n",
       "      <td>2.0</td>\n",
       "      <td>1.813207e-04</td>\n",
       "    </tr>\n",
       "    <tr>\n",
       "      <th>4</th>\n",
       "      <td>4.0</td>\n",
       "      <td>1.000000</td>\n",
       "      <td>9.0</td>\n",
       "      <td>4.286920e-07</td>\n",
       "    </tr>\n",
       "  </tbody>\n",
       "</table>\n",
       "</div>"
      ],
      "text/plain": [
       "   top_1_idx  top_1_conf  top_2_idx    top_2_conf\n",
       "0        7.0    1.000000        9.0  7.216924e-08\n",
       "1        5.0    0.984226        3.0  1.147289e-02\n",
       "2        9.0    0.999952        8.0  4.078618e-05\n",
       "3        7.0    0.999750        2.0  1.813207e-04\n",
       "4        4.0    1.000000        9.0  4.286920e-07"
      ]
     },
     "execution_count": 93,
     "metadata": {},
     "output_type": "execute_result"
    }
   ],
   "source": [
    "df.head()"
   ]
  },
  {
   "cell_type": "code",
   "execution_count": 62,
   "metadata": {},
   "outputs": [],
   "source": [
    "largest_indcs = d.T.nlargest(n=2, columns=range(0, d.shape[0])).index"
   ]
  },
  {
   "cell_type": "code",
   "execution_count": 63,
   "metadata": {},
   "outputs": [
    {
     "data": {
      "text/plain": [
       "Int64Index([7, 9], dtype='int64')"
      ]
     },
     "execution_count": 63,
     "metadata": {},
     "output_type": "execute_result"
    }
   ],
   "source": [
    "largest_indcs"
   ]
  },
  {
   "cell_type": "code",
   "execution_count": 64,
   "metadata": {},
   "outputs": [
    {
     "data": {
      "text/html": [
       "<div>\n",
       "<style scoped>\n",
       "    .dataframe tbody tr th:only-of-type {\n",
       "        vertical-align: middle;\n",
       "    }\n",
       "\n",
       "    .dataframe tbody tr th {\n",
       "        vertical-align: top;\n",
       "    }\n",
       "\n",
       "    .dataframe thead th {\n",
       "        text-align: right;\n",
       "    }\n",
       "</style>\n",
       "<table border=\"1\" class=\"dataframe\">\n",
       "  <thead>\n",
       "    <tr style=\"text-align: right;\">\n",
       "      <th></th>\n",
       "      <th>0</th>\n",
       "      <th>1</th>\n",
       "      <th>2</th>\n",
       "      <th>3</th>\n",
       "      <th>4</th>\n",
       "      <th>5</th>\n",
       "      <th>6</th>\n",
       "      <th>7</th>\n",
       "      <th>8</th>\n",
       "      <th>9</th>\n",
       "      <th>...</th>\n",
       "      <th>52285</th>\n",
       "      <th>52286</th>\n",
       "      <th>52287</th>\n",
       "      <th>52288</th>\n",
       "      <th>52289</th>\n",
       "      <th>52290</th>\n",
       "      <th>52291</th>\n",
       "      <th>52292</th>\n",
       "      <th>52293</th>\n",
       "      <th>52294</th>\n",
       "    </tr>\n",
       "  </thead>\n",
       "  <tbody>\n",
       "    <tr>\n",
       "      <th>7</th>\n",
       "      <td>9.999999e-01</td>\n",
       "      <td>0.000002</td>\n",
       "      <td>0.000001</td>\n",
       "      <td>0.999750</td>\n",
       "      <td>6.488721e-08</td>\n",
       "      <td>1.000000e+00</td>\n",
       "      <td>8.847245e-17</td>\n",
       "      <td>2.825724e-12</td>\n",
       "      <td>6.712441e-12</td>\n",
       "      <td>2.200307e-15</td>\n",
       "      <td>...</td>\n",
       "      <td>7.581013e-10</td>\n",
       "      <td>1.465759e-08</td>\n",
       "      <td>1.893714e-08</td>\n",
       "      <td>1.018177e-09</td>\n",
       "      <td>3.269034e-14</td>\n",
       "      <td>0.000036</td>\n",
       "      <td>1.460610e-12</td>\n",
       "      <td>0.000003</td>\n",
       "      <td>1.647018e-07</td>\n",
       "      <td>5.196413e-07</td>\n",
       "    </tr>\n",
       "    <tr>\n",
       "      <th>9</th>\n",
       "      <td>7.216924e-08</td>\n",
       "      <td>0.000157</td>\n",
       "      <td>0.999952</td>\n",
       "      <td>0.000011</td>\n",
       "      <td>4.286920e-07</td>\n",
       "      <td>1.866005e-08</td>\n",
       "      <td>3.856242e-08</td>\n",
       "      <td>7.875891e-08</td>\n",
       "      <td>1.239593e-10</td>\n",
       "      <td>1.182660e-09</td>\n",
       "      <td>...</td>\n",
       "      <td>1.000000e+00</td>\n",
       "      <td>1.000000e+00</td>\n",
       "      <td>1.000000e+00</td>\n",
       "      <td>9.999998e-01</td>\n",
       "      <td>3.464417e-11</td>\n",
       "      <td>0.997996</td>\n",
       "      <td>1.519156e-07</td>\n",
       "      <td>0.000020</td>\n",
       "      <td>9.999893e-01</td>\n",
       "      <td>9.999928e-01</td>\n",
       "    </tr>\n",
       "  </tbody>\n",
       "</table>\n",
       "<p>2 rows × 52295 columns</p>\n",
       "</div>"
      ],
      "text/plain": [
       "          0         1         2         3             4             5      \\\n",
       "7  9.999999e-01  0.000002  0.000001  0.999750  6.488721e-08  1.000000e+00   \n",
       "9  7.216924e-08  0.000157  0.999952  0.000011  4.286920e-07  1.866005e-08   \n",
       "\n",
       "          6             7             8             9      ...         52285  \\\n",
       "7  8.847245e-17  2.825724e-12  6.712441e-12  2.200307e-15  ...  7.581013e-10   \n",
       "9  3.856242e-08  7.875891e-08  1.239593e-10  1.182660e-09  ...  1.000000e+00   \n",
       "\n",
       "          52286         52287         52288         52289     52290  \\\n",
       "7  1.465759e-08  1.893714e-08  1.018177e-09  3.269034e-14  0.000036   \n",
       "9  1.000000e+00  1.000000e+00  9.999998e-01  3.464417e-11  0.997996   \n",
       "\n",
       "          52291     52292         52293         52294  \n",
       "7  1.460610e-12  0.000003  1.647018e-07  5.196413e-07  \n",
       "9  1.519156e-07  0.000020  9.999893e-01  9.999928e-01  \n",
       "\n",
       "[2 rows x 52295 columns]"
      ]
     },
     "execution_count": 64,
     "metadata": {},
     "output_type": "execute_result"
    }
   ],
   "source": [
    "d.T.loc[largest_indcs]"
   ]
  },
  {
   "cell_type": "code",
   "execution_count": 56,
   "metadata": {},
   "outputs": [
    {
     "data": {
      "text/plain": [
       "0        7\n",
       "1        5\n",
       "2        9\n",
       "3        7\n",
       "4        4\n",
       "        ..\n",
       "52290    9\n",
       "52291    5\n",
       "52292    4\n",
       "52293    9\n",
       "52294    9\n",
       "Length: 52295, dtype: int64"
      ]
     },
     "execution_count": 56,
     "metadata": {},
     "output_type": "execute_result"
    }
   ],
   "source": [
    "d.idxmax(axis=1)"
   ]
  },
  {
   "cell_type": "code",
   "execution_count": 47,
   "metadata": {
    "scrolled": false
   },
   "outputs": [
    {
     "data": {
      "text/plain": [
       "array([7, 5, 9, ..., 4, 9, 9])"
      ]
     },
     "execution_count": 47,
     "metadata": {},
     "output_type": "execute_result"
    }
   ],
   "source": [
    "mnist_train_label_orig.numpy()"
   ]
  },
  {
   "cell_type": "code",
   "execution_count": 48,
   "metadata": {},
   "outputs": [
    {
     "data": {
      "text/plain": [
       "52282"
      ]
     },
     "execution_count": 48,
     "metadata": {},
     "output_type": "execute_result"
    }
   ],
   "source": [
    "np.sum(mnist_train_label_orig.numpy() == mnist_train_confidences_orig.numpy().argmax(axis=1))"
   ]
  },
  {
   "cell_type": "code",
   "execution_count": 39,
   "metadata": {},
   "outputs": [],
   "source": [
    "df_mnist_train = pd.DataFrame(mnist_train_confidences_orig.numpy())"
   ]
  },
  {
   "cell_type": "code",
   "execution_count": 42,
   "metadata": {},
   "outputs": [
    {
     "data": {
      "text/plain": [
       "0        7\n",
       "1        5\n",
       "2        9\n",
       "3        7\n",
       "4        4\n",
       "        ..\n",
       "52290    9\n",
       "52291    5\n",
       "52292    4\n",
       "52293    9\n",
       "52294    9\n",
       "Length: 52295, dtype: int64"
      ]
     },
     "execution_count": 42,
     "metadata": {},
     "output_type": "execute_result"
    }
   ],
   "source": [
    "df_mnist_train.idxmax(axis=1)"
   ]
  },
  {
   "cell_type": "code",
   "execution_count": null,
   "metadata": {},
   "outputs": [],
   "source": []
  },
  {
   "cell_type": "markdown",
   "metadata": {},
   "source": [
    "## Why are the correctly classified counts so low??"
   ]
  },
  {
   "cell_type": "code",
   "execution_count": 20,
   "metadata": {},
   "outputs": [
    {
     "data": {
      "text/plain": [
       "5413"
      ]
     },
     "execution_count": 20,
     "metadata": {},
     "output_type": "execute_result"
    }
   ],
   "source": [
    "np.sum(mnist_train_confidences_orig.numpy().argmax(axis=1) == mnist_train_labels_orig.numpy())"
   ]
  },
  {
   "cell_type": "code",
   "execution_count": 21,
   "metadata": {
    "scrolled": true
   },
   "outputs": [
    {
     "data": {
      "text/plain": [
       "5299"
      ]
     },
     "execution_count": 21,
     "metadata": {},
     "output_type": "execute_result"
    }
   ],
   "source": [
    "np.sum(fashion_mnist_train_confidences_orig.numpy().argmax(axis=1) == fashion_mnist_train_labels_orig.numpy())"
   ]
  },
  {
   "cell_type": "code",
   "execution_count": 22,
   "metadata": {},
   "outputs": [
    {
     "data": {
      "text/plain": [
       "4868"
      ]
     },
     "execution_count": 22,
     "metadata": {},
     "output_type": "execute_result"
    }
   ],
   "source": [
    "np.sum(cifar10_train_confidences_orig.numpy().argmax(axis=1) == cifar10_train_labels_orig.numpy())"
   ]
  },
  {
   "cell_type": "code",
   "execution_count": 11,
   "metadata": {},
   "outputs": [],
   "source": [
    "df_mnist_train_conf = pd.DataFrame(mnist_train_confidences_orig.numpy())"
   ]
  },
  {
   "cell_type": "code",
   "execution_count": 12,
   "metadata": {},
   "outputs": [
    {
     "data": {
      "text/html": [
       "<div>\n",
       "<style scoped>\n",
       "    .dataframe tbody tr th:only-of-type {\n",
       "        vertical-align: middle;\n",
       "    }\n",
       "\n",
       "    .dataframe tbody tr th {\n",
       "        vertical-align: top;\n",
       "    }\n",
       "\n",
       "    .dataframe thead th {\n",
       "        text-align: right;\n",
       "    }\n",
       "</style>\n",
       "<table border=\"1\" class=\"dataframe\">\n",
       "  <thead>\n",
       "    <tr style=\"text-align: right;\">\n",
       "      <th></th>\n",
       "      <th>0</th>\n",
       "      <th>1</th>\n",
       "      <th>2</th>\n",
       "      <th>3</th>\n",
       "      <th>4</th>\n",
       "      <th>5</th>\n",
       "      <th>6</th>\n",
       "      <th>7</th>\n",
       "      <th>8</th>\n",
       "      <th>9</th>\n",
       "    </tr>\n",
       "  </thead>\n",
       "  <tbody>\n",
       "    <tr>\n",
       "      <th>0</th>\n",
       "      <td>9.106839e-09</td>\n",
       "      <td>9.999980e-01</td>\n",
       "      <td>1.332047e-07</td>\n",
       "      <td>1.145887e-08</td>\n",
       "      <td>1.027700e-06</td>\n",
       "      <td>4.720181e-08</td>\n",
       "      <td>2.063075e-07</td>\n",
       "      <td>4.926950e-07</td>\n",
       "      <td>2.166244e-08</td>\n",
       "      <td>7.077777e-09</td>\n",
       "    </tr>\n",
       "    <tr>\n",
       "      <th>1</th>\n",
       "      <td>6.883028e-10</td>\n",
       "      <td>9.999979e-01</td>\n",
       "      <td>3.241036e-09</td>\n",
       "      <td>3.283960e-09</td>\n",
       "      <td>5.851322e-07</td>\n",
       "      <td>5.883354e-08</td>\n",
       "      <td>1.400277e-08</td>\n",
       "      <td>1.519055e-06</td>\n",
       "      <td>4.152741e-08</td>\n",
       "      <td>8.983880e-09</td>\n",
       "    </tr>\n",
       "    <tr>\n",
       "      <th>2</th>\n",
       "      <td>1.277275e-09</td>\n",
       "      <td>1.552069e-11</td>\n",
       "      <td>1.000000e+00</td>\n",
       "      <td>1.346936e-08</td>\n",
       "      <td>1.737813e-15</td>\n",
       "      <td>5.993823e-15</td>\n",
       "      <td>6.450398e-14</td>\n",
       "      <td>3.547708e-08</td>\n",
       "      <td>1.412896e-08</td>\n",
       "      <td>5.272634e-13</td>\n",
       "    </tr>\n",
       "    <tr>\n",
       "      <th>3</th>\n",
       "      <td>6.199202e-12</td>\n",
       "      <td>2.906035e-11</td>\n",
       "      <td>1.547877e-10</td>\n",
       "      <td>4.497145e-11</td>\n",
       "      <td>2.525052e-12</td>\n",
       "      <td>2.840564e-11</td>\n",
       "      <td>1.815046e-12</td>\n",
       "      <td>1.950423e-13</td>\n",
       "      <td>1.000000e+00</td>\n",
       "      <td>2.137064e-09</td>\n",
       "    </tr>\n",
       "    <tr>\n",
       "      <th>4</th>\n",
       "      <td>2.112273e-11</td>\n",
       "      <td>3.375414e-12</td>\n",
       "      <td>1.911869e-10</td>\n",
       "      <td>2.981154e-10</td>\n",
       "      <td>5.153938e-11</td>\n",
       "      <td>6.121966e-09</td>\n",
       "      <td>4.378193e-09</td>\n",
       "      <td>2.559471e-14</td>\n",
       "      <td>1.000000e+00</td>\n",
       "      <td>1.215892e-08</td>\n",
       "    </tr>\n",
       "  </tbody>\n",
       "</table>\n",
       "</div>"
      ],
      "text/plain": [
       "              0             1             2             3             4  \\\n",
       "0  9.106839e-09  9.999980e-01  1.332047e-07  1.145887e-08  1.027700e-06   \n",
       "1  6.883028e-10  9.999979e-01  3.241036e-09  3.283960e-09  5.851322e-07   \n",
       "2  1.277275e-09  1.552069e-11  1.000000e+00  1.346936e-08  1.737813e-15   \n",
       "3  6.199202e-12  2.906035e-11  1.547877e-10  4.497145e-11  2.525052e-12   \n",
       "4  2.112273e-11  3.375414e-12  1.911869e-10  2.981154e-10  5.153938e-11   \n",
       "\n",
       "              5             6             7             8             9  \n",
       "0  4.720181e-08  2.063075e-07  4.926950e-07  2.166244e-08  7.077777e-09  \n",
       "1  5.883354e-08  1.400277e-08  1.519055e-06  4.152741e-08  8.983880e-09  \n",
       "2  5.993823e-15  6.450398e-14  3.547708e-08  1.412896e-08  5.272634e-13  \n",
       "3  2.840564e-11  1.815046e-12  1.950423e-13  1.000000e+00  2.137064e-09  \n",
       "4  6.121966e-09  4.378193e-09  2.559471e-14  1.000000e+00  1.215892e-08  "
      ]
     },
     "execution_count": 12,
     "metadata": {},
     "output_type": "execute_result"
    }
   ],
   "source": [
    "df_mnist_train_conf.head()"
   ]
  },
  {
   "cell_type": "code",
   "execution_count": 22,
   "metadata": {},
   "outputs": [],
   "source": [
    "pred_labels = df_mnist_train_conf.idxmax(axis=1).to_numpy()"
   ]
  },
  {
   "cell_type": "code",
   "execution_count": 39,
   "metadata": {},
   "outputs": [
    {
     "data": {
      "text/html": [
       "<div>\n",
       "<style scoped>\n",
       "    .dataframe tbody tr th:only-of-type {\n",
       "        vertical-align: middle;\n",
       "    }\n",
       "\n",
       "    .dataframe tbody tr th {\n",
       "        vertical-align: top;\n",
       "    }\n",
       "\n",
       "    .dataframe thead th {\n",
       "        text-align: right;\n",
       "    }\n",
       "</style>\n",
       "<table border=\"1\" class=\"dataframe\">\n",
       "  <thead>\n",
       "    <tr style=\"text-align: right;\">\n",
       "      <th></th>\n",
       "      <th>0</th>\n",
       "    </tr>\n",
       "  </thead>\n",
       "  <tbody>\n",
       "    <tr>\n",
       "      <th>0</th>\n",
       "      <td>6.0</td>\n",
       "    </tr>\n",
       "    <tr>\n",
       "      <th>1</th>\n",
       "      <td>7.0</td>\n",
       "    </tr>\n",
       "    <tr>\n",
       "      <th>2</th>\n",
       "      <td>6.0</td>\n",
       "    </tr>\n",
       "    <tr>\n",
       "      <th>3</th>\n",
       "      <td>9.0</td>\n",
       "    </tr>\n",
       "    <tr>\n",
       "      <th>4</th>\n",
       "      <td>4.0</td>\n",
       "    </tr>\n",
       "    <tr>\n",
       "      <th>...</th>\n",
       "      <td>...</td>\n",
       "    </tr>\n",
       "    <tr>\n",
       "      <th>52290</th>\n",
       "      <td>2.0</td>\n",
       "    </tr>\n",
       "    <tr>\n",
       "      <th>52291</th>\n",
       "      <td>1.0</td>\n",
       "    </tr>\n",
       "    <tr>\n",
       "      <th>52292</th>\n",
       "      <td>4.0</td>\n",
       "    </tr>\n",
       "    <tr>\n",
       "      <th>52293</th>\n",
       "      <td>4.0</td>\n",
       "    </tr>\n",
       "    <tr>\n",
       "      <th>52294</th>\n",
       "      <td>2.0</td>\n",
       "    </tr>\n",
       "  </tbody>\n",
       "</table>\n",
       "<p>52295 rows × 1 columns</p>\n",
       "</div>"
      ],
      "text/plain": [
       "         0\n",
       "0      6.0\n",
       "1      7.0\n",
       "2      6.0\n",
       "3      9.0\n",
       "4      4.0\n",
       "...    ...\n",
       "52290  2.0\n",
       "52291  1.0\n",
       "52292  4.0\n",
       "52293  4.0\n",
       "52294  2.0\n",
       "\n",
       "[52295 rows x 1 columns]"
      ]
     },
     "execution_count": 39,
     "metadata": {},
     "output_type": "execute_result"
    }
   ],
   "source": [
    "df_mnist_train_labels"
   ]
  },
  {
   "cell_type": "code",
   "execution_count": 40,
   "metadata": {},
   "outputs": [
    {
     "data": {
      "text/plain": [
       "array([4, 4, 1, ..., 3, 5, 5])"
      ]
     },
     "execution_count": 40,
     "metadata": {},
     "output_type": "execute_result"
    }
   ],
   "source": [
    "pred_labels"
   ]
  },
  {
   "cell_type": "markdown",
   "metadata": {},
   "source": [
    "# Q1: How is the distribution of classes in the data sets?"
   ]
  },
  {
   "cell_type": "markdown",
   "metadata": {},
   "source": [
    "## MNIST"
   ]
  },
  {
   "cell_type": "markdown",
   "metadata": {},
   "source": [
    "### Original"
   ]
  },
  {
   "cell_type": "markdown",
   "metadata": {},
   "source": [
    "## FashionMNIST"
   ]
  },
  {
   "cell_type": "markdown",
   "metadata": {},
   "source": [
    "## Labels mappings:\n",
    "* 0\tT-shirt/top\n",
    "* 1\tTrouser\n",
    "* 2\tPullover\n",
    "* 3\tDress\n",
    "* 4\tCoat\n",
    "* 5\tSandal\n",
    "* 6\tShirt\n",
    "* 7\tSneaker\n",
    "* 8\tBag\n",
    "* 9\tAnkle boot"
   ]
  },
  {
   "cell_type": "markdown",
   "metadata": {},
   "source": [
    "### Original"
   ]
  },
  {
   "cell_type": "markdown",
   "metadata": {},
   "source": [
    "### Adversarial"
   ]
  },
  {
   "cell_type": "markdown",
   "metadata": {},
   "source": [
    "## CIFAR10"
   ]
  },
  {
   "cell_type": "markdown",
   "metadata": {},
   "source": [
    "Label mappings:\n",
    "* 0\tAirplane\n",
    "* 1\tCar\n",
    "* 2\tBird\n",
    "* 3\tCat\n",
    "* 4\tDeer\n",
    "* 5\tDog\n",
    "* 6\tFrog\n",
    "* 7\tHorse\n",
    "* 8\tShip\n",
    "* 9\tTruck"
   ]
  },
  {
   "cell_type": "markdown",
   "metadata": {},
   "source": [
    "### Original"
   ]
  },
  {
   "cell_type": "markdown",
   "metadata": {},
   "source": [
    "### Adversarial"
   ]
  },
  {
   "cell_type": "code",
   "execution_count": null,
   "metadata": {},
   "outputs": [],
   "source": []
  }
 ],
 "metadata": {
  "kernelspec": {
   "display_name": "Python 3",
   "language": "python",
   "name": "python3"
  },
  "language_info": {
   "codemirror_mode": {
    "name": "ipython",
    "version": 3
   },
   "file_extension": ".py",
   "mimetype": "text/x-python",
   "name": "python",
   "nbconvert_exporter": "python",
   "pygments_lexer": "ipython3",
   "version": "3.8.8"
  }
 },
 "nbformat": 4,
 "nbformat_minor": 1
}
